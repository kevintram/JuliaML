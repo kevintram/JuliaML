{
 "cells": [
  {
   "cell_type": "code",
   "execution_count": 1,
   "metadata": {},
   "outputs": [
    {
     "name": "stderr",
     "output_type": "stream",
     "text": [
      "\u001b[32m\u001b[1m   Building\u001b[22m\u001b[39m Conda ─→ `~/.julia/packages/Conda/tJJuN/deps/build.log`\n",
      "\u001b[32m\u001b[1m   Building\u001b[22m\u001b[39m PyCall → `~/.julia/packages/PyCall/tqyST/deps/build.log`\n",
      "\u001b[32m\u001b[1m   Updating\u001b[22m\u001b[39m registry at `~/.julia/registries/General`\n",
      "\u001b[32m\u001b[1m  Resolving\u001b[22m\u001b[39m package versions...\n",
      "\u001b[32m\u001b[1mNo Changes\u001b[22m\u001b[39m to `~/.julia/environments/v1.5/Project.toml`\n",
      "\u001b[32m\u001b[1mNo Changes\u001b[22m\u001b[39m to `~/.julia/environments/v1.5/Manifest.toml`\n",
      "\u001b[32m\u001b[1m  Resolving\u001b[22m\u001b[39m package versions...\n",
      "\u001b[32m\u001b[1mNo Changes\u001b[22m\u001b[39m to `~/.julia/environments/v1.5/Project.toml`\n",
      "\u001b[32m\u001b[1mNo Changes\u001b[22m\u001b[39m to `~/.julia/environments/v1.5/Manifest.toml`\n",
      "\u001b[32m\u001b[1m  Resolving\u001b[22m\u001b[39m package versions...\n",
      "\u001b[32m\u001b[1mNo Changes\u001b[22m\u001b[39m to `~/.julia/environments/v1.5/Project.toml`\n",
      "\u001b[32m\u001b[1mNo Changes\u001b[22m\u001b[39m to `~/.julia/environments/v1.5/Manifest.toml`\n",
      "┌ Warning: Module model_selection has been ported to Julia - try `import ScikitLearn: CrossValidation` instead\n",
      "└ @ ScikitLearn.Skcore /Users/kevintram/.julia/packages/ScikitLearn/NJwUf/src/Skcore.jl:179\n"
     ]
    }
   ],
   "source": [
    "using Pkg\n",
    "Pkg.build(\"PyCall\")\n",
    "Pkg.add(\"PyCall\")\n",
    "Pkg.add(\"ScikitLearn\")\n",
    "Pkg.add(\"CSV\")\n",
    "using PyCall, ScikitLearn, CSV, DataFrames\n",
    "Pickle = pyimport(\"pickle\")\n",
    "@sk_import preprocessing: LabelEncoder;\n",
    "@sk_import model_selection: train_test_split;\n",
    "@sk_import naive_bayes: CategoricalNB;\n",
    "@sk_import tree: DecisionTreeClassifier;\n",
    "@sk_import metrics: accuracy_score;\n",
    "@sk_import svm: SVC;\n",
    "@sk_import neural_network: MLPClassifier;\n",
    "@sk_import naive_bayes: GaussianNB;\n",
    "@sk_import preprocessing: LabelBinarizer;\n",
    "@sk_import svm: LinearSVC;"
   ]
  },
  {
   "cell_type": "markdown",
   "metadata": {},
   "source": [
    "# Car Data Set"
   ]
  },
  {
   "cell_type": "markdown",
   "metadata": {},
   "source": [
    "## Preprocessing"
   ]
  },
  {
   "cell_type": "markdown",
   "metadata": {},
   "source": [
    "For all methods, the data was partitioned in a 70-30 split. All the features and labels were label encoded. "
   ]
  },
  {
   "cell_type": "code",
   "execution_count": 2,
   "metadata": {},
   "outputs": [
    {
     "data": {
      "text/html": [
       "<table class=\"data-frame\"><thead><tr><th></th><th>buying</th><th>maint</th><th>doors</th><th>persons</th><th>lug_boot</th><th>saftey</th><th>acc</th></tr><tr><th></th><th>String</th><th>String</th><th>String</th><th>String</th><th>String</th><th>String</th><th>String</th></tr></thead><tbody><p>1,728 rows × 7 columns</p><tr><th>1</th><td>vhigh</td><td>vhigh</td><td>2</td><td>2</td><td>small</td><td>low</td><td>unacc</td></tr><tr><th>2</th><td>vhigh</td><td>vhigh</td><td>2</td><td>2</td><td>small</td><td>med</td><td>unacc</td></tr><tr><th>3</th><td>vhigh</td><td>vhigh</td><td>2</td><td>2</td><td>small</td><td>high</td><td>unacc</td></tr><tr><th>4</th><td>vhigh</td><td>vhigh</td><td>2</td><td>2</td><td>med</td><td>low</td><td>unacc</td></tr><tr><th>5</th><td>vhigh</td><td>vhigh</td><td>2</td><td>2</td><td>med</td><td>med</td><td>unacc</td></tr><tr><th>6</th><td>vhigh</td><td>vhigh</td><td>2</td><td>2</td><td>med</td><td>high</td><td>unacc</td></tr><tr><th>7</th><td>vhigh</td><td>vhigh</td><td>2</td><td>2</td><td>big</td><td>low</td><td>unacc</td></tr><tr><th>8</th><td>vhigh</td><td>vhigh</td><td>2</td><td>2</td><td>big</td><td>med</td><td>unacc</td></tr><tr><th>9</th><td>vhigh</td><td>vhigh</td><td>2</td><td>2</td><td>big</td><td>high</td><td>unacc</td></tr><tr><th>10</th><td>vhigh</td><td>vhigh</td><td>2</td><td>4</td><td>small</td><td>low</td><td>unacc</td></tr><tr><th>11</th><td>vhigh</td><td>vhigh</td><td>2</td><td>4</td><td>small</td><td>med</td><td>unacc</td></tr><tr><th>12</th><td>vhigh</td><td>vhigh</td><td>2</td><td>4</td><td>small</td><td>high</td><td>unacc</td></tr><tr><th>13</th><td>vhigh</td><td>vhigh</td><td>2</td><td>4</td><td>med</td><td>low</td><td>unacc</td></tr><tr><th>14</th><td>vhigh</td><td>vhigh</td><td>2</td><td>4</td><td>med</td><td>med</td><td>unacc</td></tr><tr><th>15</th><td>vhigh</td><td>vhigh</td><td>2</td><td>4</td><td>med</td><td>high</td><td>unacc</td></tr><tr><th>16</th><td>vhigh</td><td>vhigh</td><td>2</td><td>4</td><td>big</td><td>low</td><td>unacc</td></tr><tr><th>17</th><td>vhigh</td><td>vhigh</td><td>2</td><td>4</td><td>big</td><td>med</td><td>unacc</td></tr><tr><th>18</th><td>vhigh</td><td>vhigh</td><td>2</td><td>4</td><td>big</td><td>high</td><td>unacc</td></tr><tr><th>19</th><td>vhigh</td><td>vhigh</td><td>2</td><td>more</td><td>small</td><td>low</td><td>unacc</td></tr><tr><th>20</th><td>vhigh</td><td>vhigh</td><td>2</td><td>more</td><td>small</td><td>med</td><td>unacc</td></tr><tr><th>21</th><td>vhigh</td><td>vhigh</td><td>2</td><td>more</td><td>small</td><td>high</td><td>unacc</td></tr><tr><th>22</th><td>vhigh</td><td>vhigh</td><td>2</td><td>more</td><td>med</td><td>low</td><td>unacc</td></tr><tr><th>23</th><td>vhigh</td><td>vhigh</td><td>2</td><td>more</td><td>med</td><td>med</td><td>unacc</td></tr><tr><th>24</th><td>vhigh</td><td>vhigh</td><td>2</td><td>more</td><td>med</td><td>high</td><td>unacc</td></tr><tr><th>25</th><td>vhigh</td><td>vhigh</td><td>2</td><td>more</td><td>big</td><td>low</td><td>unacc</td></tr><tr><th>26</th><td>vhigh</td><td>vhigh</td><td>2</td><td>more</td><td>big</td><td>med</td><td>unacc</td></tr><tr><th>27</th><td>vhigh</td><td>vhigh</td><td>2</td><td>more</td><td>big</td><td>high</td><td>unacc</td></tr><tr><th>28</th><td>vhigh</td><td>vhigh</td><td>3</td><td>2</td><td>small</td><td>low</td><td>unacc</td></tr><tr><th>29</th><td>vhigh</td><td>vhigh</td><td>3</td><td>2</td><td>small</td><td>med</td><td>unacc</td></tr><tr><th>30</th><td>vhigh</td><td>vhigh</td><td>3</td><td>2</td><td>small</td><td>high</td><td>unacc</td></tr><tr><th>&vellip;</th><td>&vellip;</td><td>&vellip;</td><td>&vellip;</td><td>&vellip;</td><td>&vellip;</td><td>&vellip;</td><td>&vellip;</td></tr></tbody></table>"
      ],
      "text/latex": [
       "\\begin{tabular}{r|ccccccc}\n",
       "\t& buying & maint & doors & persons & lug\\_boot & saftey & acc\\\\\n",
       "\t\\hline\n",
       "\t& String & String & String & String & String & String & String\\\\\n",
       "\t\\hline\n",
       "\t1 & vhigh & vhigh & 2 & 2 & small & low & unacc \\\\\n",
       "\t2 & vhigh & vhigh & 2 & 2 & small & med & unacc \\\\\n",
       "\t3 & vhigh & vhigh & 2 & 2 & small & high & unacc \\\\\n",
       "\t4 & vhigh & vhigh & 2 & 2 & med & low & unacc \\\\\n",
       "\t5 & vhigh & vhigh & 2 & 2 & med & med & unacc \\\\\n",
       "\t6 & vhigh & vhigh & 2 & 2 & med & high & unacc \\\\\n",
       "\t7 & vhigh & vhigh & 2 & 2 & big & low & unacc \\\\\n",
       "\t8 & vhigh & vhigh & 2 & 2 & big & med & unacc \\\\\n",
       "\t9 & vhigh & vhigh & 2 & 2 & big & high & unacc \\\\\n",
       "\t10 & vhigh & vhigh & 2 & 4 & small & low & unacc \\\\\n",
       "\t11 & vhigh & vhigh & 2 & 4 & small & med & unacc \\\\\n",
       "\t12 & vhigh & vhigh & 2 & 4 & small & high & unacc \\\\\n",
       "\t13 & vhigh & vhigh & 2 & 4 & med & low & unacc \\\\\n",
       "\t14 & vhigh & vhigh & 2 & 4 & med & med & unacc \\\\\n",
       "\t15 & vhigh & vhigh & 2 & 4 & med & high & unacc \\\\\n",
       "\t16 & vhigh & vhigh & 2 & 4 & big & low & unacc \\\\\n",
       "\t17 & vhigh & vhigh & 2 & 4 & big & med & unacc \\\\\n",
       "\t18 & vhigh & vhigh & 2 & 4 & big & high & unacc \\\\\n",
       "\t19 & vhigh & vhigh & 2 & more & small & low & unacc \\\\\n",
       "\t20 & vhigh & vhigh & 2 & more & small & med & unacc \\\\\n",
       "\t21 & vhigh & vhigh & 2 & more & small & high & unacc \\\\\n",
       "\t22 & vhigh & vhigh & 2 & more & med & low & unacc \\\\\n",
       "\t23 & vhigh & vhigh & 2 & more & med & med & unacc \\\\\n",
       "\t24 & vhigh & vhigh & 2 & more & med & high & unacc \\\\\n",
       "\t25 & vhigh & vhigh & 2 & more & big & low & unacc \\\\\n",
       "\t26 & vhigh & vhigh & 2 & more & big & med & unacc \\\\\n",
       "\t27 & vhigh & vhigh & 2 & more & big & high & unacc \\\\\n",
       "\t28 & vhigh & vhigh & 3 & 2 & small & low & unacc \\\\\n",
       "\t29 & vhigh & vhigh & 3 & 2 & small & med & unacc \\\\\n",
       "\t30 & vhigh & vhigh & 3 & 2 & small & high & unacc \\\\\n",
       "\t$\\dots$ & $\\dots$ & $\\dots$ & $\\dots$ & $\\dots$ & $\\dots$ & $\\dots$ & $\\dots$ \\\\\n",
       "\\end{tabular}\n"
      ],
      "text/plain": [
       "\u001b[1m1728×7 DataFrame\u001b[0m\n",
       "\u001b[1m  Row \u001b[0m│\u001b[1m buying \u001b[0m\u001b[1m maint  \u001b[0m\u001b[1m doors  \u001b[0m\u001b[1m persons \u001b[0m\u001b[1m lug_boot \u001b[0m\u001b[1m saftey \u001b[0m\u001b[1m acc    \u001b[0m\n",
       "\u001b[1m      \u001b[0m│\u001b[90m String \u001b[0m\u001b[90m String \u001b[0m\u001b[90m String \u001b[0m\u001b[90m String  \u001b[0m\u001b[90m String   \u001b[0m\u001b[90m String \u001b[0m\u001b[90m String \u001b[0m\n",
       "──────┼───────────────────────────────────────────────────────────\n",
       "    1 │ vhigh   vhigh   2       2        small     low     unacc\n",
       "    2 │ vhigh   vhigh   2       2        small     med     unacc\n",
       "    3 │ vhigh   vhigh   2       2        small     high    unacc\n",
       "    4 │ vhigh   vhigh   2       2        med       low     unacc\n",
       "    5 │ vhigh   vhigh   2       2        med       med     unacc\n",
       "    6 │ vhigh   vhigh   2       2        med       high    unacc\n",
       "    7 │ vhigh   vhigh   2       2        big       low     unacc\n",
       "    8 │ vhigh   vhigh   2       2        big       med     unacc\n",
       "    9 │ vhigh   vhigh   2       2        big       high    unacc\n",
       "   10 │ vhigh   vhigh   2       4        small     low     unacc\n",
       "   11 │ vhigh   vhigh   2       4        small     med     unacc\n",
       "  ⋮   │   ⋮       ⋮       ⋮        ⋮        ⋮        ⋮       ⋮\n",
       " 1719 │ low     low     5more   4        big       high    vgood\n",
       " 1720 │ low     low     5more   more     small     low     unacc\n",
       " 1721 │ low     low     5more   more     small     med     acc\n",
       " 1722 │ low     low     5more   more     small     high    good\n",
       " 1723 │ low     low     5more   more     med       low     unacc\n",
       " 1724 │ low     low     5more   more     med       med     good\n",
       " 1725 │ low     low     5more   more     med       high    vgood\n",
       " 1726 │ low     low     5more   more     big       low     unacc\n",
       " 1727 │ low     low     5more   more     big       med     good\n",
       " 1728 │ low     low     5more   more     big       high    vgood\n",
       "\u001b[36m                                                 1707 rows omitted\u001b[0m"
      ]
     },
     "execution_count": 2,
     "metadata": {},
     "output_type": "execute_result"
    }
   ],
   "source": [
    "car = CSV.File(\"car/car.data\", header = [\"buying\", \"maint\", \"doors\", \"persons\", \"lug_boot\", \"saftey\", \"acc\"]) |> DataFrame"
   ]
  },
  {
   "cell_type": "markdown",
   "metadata": {},
   "source": [
    "Encode the data with a label encoder:"
   ]
  },
  {
   "cell_type": "code",
   "execution_count": 3,
   "metadata": {},
   "outputs": [],
   "source": [
    "le = LabelEncoder();"
   ]
  },
  {
   "cell_type": "code",
   "execution_count": 4,
   "metadata": {},
   "outputs": [
    {
     "data": {
      "text/html": [
       "<table class=\"data-frame\"><thead><tr><th></th><th>buying</th><th>maint</th><th>doors</th><th>persons</th><th>lug_boot</th><th>saftey</th><th>acc</th></tr><tr><th></th><th>Int64</th><th>Int64</th><th>Int64</th><th>Int64</th><th>Int64</th><th>Int64</th><th>Int64</th></tr></thead><tbody><p>1,728 rows × 7 columns</p><tr><th>1</th><td>3</td><td>3</td><td>0</td><td>0</td><td>2</td><td>1</td><td>2</td></tr><tr><th>2</th><td>3</td><td>3</td><td>0</td><td>0</td><td>2</td><td>2</td><td>2</td></tr><tr><th>3</th><td>3</td><td>3</td><td>0</td><td>0</td><td>2</td><td>0</td><td>2</td></tr><tr><th>4</th><td>3</td><td>3</td><td>0</td><td>0</td><td>1</td><td>1</td><td>2</td></tr><tr><th>5</th><td>3</td><td>3</td><td>0</td><td>0</td><td>1</td><td>2</td><td>2</td></tr><tr><th>6</th><td>3</td><td>3</td><td>0</td><td>0</td><td>1</td><td>0</td><td>2</td></tr><tr><th>7</th><td>3</td><td>3</td><td>0</td><td>0</td><td>0</td><td>1</td><td>2</td></tr><tr><th>8</th><td>3</td><td>3</td><td>0</td><td>0</td><td>0</td><td>2</td><td>2</td></tr><tr><th>9</th><td>3</td><td>3</td><td>0</td><td>0</td><td>0</td><td>0</td><td>2</td></tr><tr><th>10</th><td>3</td><td>3</td><td>0</td><td>1</td><td>2</td><td>1</td><td>2</td></tr><tr><th>11</th><td>3</td><td>3</td><td>0</td><td>1</td><td>2</td><td>2</td><td>2</td></tr><tr><th>12</th><td>3</td><td>3</td><td>0</td><td>1</td><td>2</td><td>0</td><td>2</td></tr><tr><th>13</th><td>3</td><td>3</td><td>0</td><td>1</td><td>1</td><td>1</td><td>2</td></tr><tr><th>14</th><td>3</td><td>3</td><td>0</td><td>1</td><td>1</td><td>2</td><td>2</td></tr><tr><th>15</th><td>3</td><td>3</td><td>0</td><td>1</td><td>1</td><td>0</td><td>2</td></tr><tr><th>16</th><td>3</td><td>3</td><td>0</td><td>1</td><td>0</td><td>1</td><td>2</td></tr><tr><th>17</th><td>3</td><td>3</td><td>0</td><td>1</td><td>0</td><td>2</td><td>2</td></tr><tr><th>18</th><td>3</td><td>3</td><td>0</td><td>1</td><td>0</td><td>0</td><td>2</td></tr><tr><th>19</th><td>3</td><td>3</td><td>0</td><td>2</td><td>2</td><td>1</td><td>2</td></tr><tr><th>20</th><td>3</td><td>3</td><td>0</td><td>2</td><td>2</td><td>2</td><td>2</td></tr><tr><th>21</th><td>3</td><td>3</td><td>0</td><td>2</td><td>2</td><td>0</td><td>2</td></tr><tr><th>22</th><td>3</td><td>3</td><td>0</td><td>2</td><td>1</td><td>1</td><td>2</td></tr><tr><th>23</th><td>3</td><td>3</td><td>0</td><td>2</td><td>1</td><td>2</td><td>2</td></tr><tr><th>24</th><td>3</td><td>3</td><td>0</td><td>2</td><td>1</td><td>0</td><td>2</td></tr><tr><th>25</th><td>3</td><td>3</td><td>0</td><td>2</td><td>0</td><td>1</td><td>2</td></tr><tr><th>26</th><td>3</td><td>3</td><td>0</td><td>2</td><td>0</td><td>2</td><td>2</td></tr><tr><th>27</th><td>3</td><td>3</td><td>0</td><td>2</td><td>0</td><td>0</td><td>2</td></tr><tr><th>28</th><td>3</td><td>3</td><td>1</td><td>0</td><td>2</td><td>1</td><td>2</td></tr><tr><th>29</th><td>3</td><td>3</td><td>1</td><td>0</td><td>2</td><td>2</td><td>2</td></tr><tr><th>30</th><td>3</td><td>3</td><td>1</td><td>0</td><td>2</td><td>0</td><td>2</td></tr><tr><th>&vellip;</th><td>&vellip;</td><td>&vellip;</td><td>&vellip;</td><td>&vellip;</td><td>&vellip;</td><td>&vellip;</td><td>&vellip;</td></tr></tbody></table>"
      ],
      "text/latex": [
       "\\begin{tabular}{r|ccccccc}\n",
       "\t& buying & maint & doors & persons & lug\\_boot & saftey & acc\\\\\n",
       "\t\\hline\n",
       "\t& Int64 & Int64 & Int64 & Int64 & Int64 & Int64 & Int64\\\\\n",
       "\t\\hline\n",
       "\t1 & 3 & 3 & 0 & 0 & 2 & 1 & 2 \\\\\n",
       "\t2 & 3 & 3 & 0 & 0 & 2 & 2 & 2 \\\\\n",
       "\t3 & 3 & 3 & 0 & 0 & 2 & 0 & 2 \\\\\n",
       "\t4 & 3 & 3 & 0 & 0 & 1 & 1 & 2 \\\\\n",
       "\t5 & 3 & 3 & 0 & 0 & 1 & 2 & 2 \\\\\n",
       "\t6 & 3 & 3 & 0 & 0 & 1 & 0 & 2 \\\\\n",
       "\t7 & 3 & 3 & 0 & 0 & 0 & 1 & 2 \\\\\n",
       "\t8 & 3 & 3 & 0 & 0 & 0 & 2 & 2 \\\\\n",
       "\t9 & 3 & 3 & 0 & 0 & 0 & 0 & 2 \\\\\n",
       "\t10 & 3 & 3 & 0 & 1 & 2 & 1 & 2 \\\\\n",
       "\t11 & 3 & 3 & 0 & 1 & 2 & 2 & 2 \\\\\n",
       "\t12 & 3 & 3 & 0 & 1 & 2 & 0 & 2 \\\\\n",
       "\t13 & 3 & 3 & 0 & 1 & 1 & 1 & 2 \\\\\n",
       "\t14 & 3 & 3 & 0 & 1 & 1 & 2 & 2 \\\\\n",
       "\t15 & 3 & 3 & 0 & 1 & 1 & 0 & 2 \\\\\n",
       "\t16 & 3 & 3 & 0 & 1 & 0 & 1 & 2 \\\\\n",
       "\t17 & 3 & 3 & 0 & 1 & 0 & 2 & 2 \\\\\n",
       "\t18 & 3 & 3 & 0 & 1 & 0 & 0 & 2 \\\\\n",
       "\t19 & 3 & 3 & 0 & 2 & 2 & 1 & 2 \\\\\n",
       "\t20 & 3 & 3 & 0 & 2 & 2 & 2 & 2 \\\\\n",
       "\t21 & 3 & 3 & 0 & 2 & 2 & 0 & 2 \\\\\n",
       "\t22 & 3 & 3 & 0 & 2 & 1 & 1 & 2 \\\\\n",
       "\t23 & 3 & 3 & 0 & 2 & 1 & 2 & 2 \\\\\n",
       "\t24 & 3 & 3 & 0 & 2 & 1 & 0 & 2 \\\\\n",
       "\t25 & 3 & 3 & 0 & 2 & 0 & 1 & 2 \\\\\n",
       "\t26 & 3 & 3 & 0 & 2 & 0 & 2 & 2 \\\\\n",
       "\t27 & 3 & 3 & 0 & 2 & 0 & 0 & 2 \\\\\n",
       "\t28 & 3 & 3 & 1 & 0 & 2 & 1 & 2 \\\\\n",
       "\t29 & 3 & 3 & 1 & 0 & 2 & 2 & 2 \\\\\n",
       "\t30 & 3 & 3 & 1 & 0 & 2 & 0 & 2 \\\\\n",
       "\t$\\dots$ & $\\dots$ & $\\dots$ & $\\dots$ & $\\dots$ & $\\dots$ & $\\dots$ & $\\dots$ \\\\\n",
       "\\end{tabular}\n"
      ],
      "text/plain": [
       "\u001b[1m1728×7 DataFrame\u001b[0m\n",
       "\u001b[1m  Row \u001b[0m│\u001b[1m buying \u001b[0m\u001b[1m maint \u001b[0m\u001b[1m doors \u001b[0m\u001b[1m persons \u001b[0m\u001b[1m lug_boot \u001b[0m\u001b[1m saftey \u001b[0m\u001b[1m acc   \u001b[0m\n",
       "\u001b[1m      \u001b[0m│\u001b[90m Int64  \u001b[0m\u001b[90m Int64 \u001b[0m\u001b[90m Int64 \u001b[0m\u001b[90m Int64   \u001b[0m\u001b[90m Int64    \u001b[0m\u001b[90m Int64  \u001b[0m\u001b[90m Int64 \u001b[0m\n",
       "──────┼────────────────────────────────────────────────────────\n",
       "    1 │      3      3      0        0         2       1      2\n",
       "    2 │      3      3      0        0         2       2      2\n",
       "    3 │      3      3      0        0         2       0      2\n",
       "    4 │      3      3      0        0         1       1      2\n",
       "    5 │      3      3      0        0         1       2      2\n",
       "    6 │      3      3      0        0         1       0      2\n",
       "    7 │      3      3      0        0         0       1      2\n",
       "    8 │      3      3      0        0         0       2      2\n",
       "    9 │      3      3      0        0         0       0      2\n",
       "   10 │      3      3      0        1         2       1      2\n",
       "   11 │      3      3      0        1         2       2      2\n",
       "  ⋮   │   ⋮       ⋮      ⋮       ⋮        ⋮        ⋮       ⋮\n",
       " 1719 │      1      1      3        1         0       0      3\n",
       " 1720 │      1      1      3        2         2       1      2\n",
       " 1721 │      1      1      3        2         2       2      0\n",
       " 1722 │      1      1      3        2         2       0      1\n",
       " 1723 │      1      1      3        2         1       1      2\n",
       " 1724 │      1      1      3        2         1       2      1\n",
       " 1725 │      1      1      3        2         1       0      3\n",
       " 1726 │      1      1      3        2         0       1      2\n",
       " 1727 │      1      1      3        2         0       2      1\n",
       " 1728 │      1      1      3        2         0       0      3\n",
       "\u001b[36m                                              1707 rows omitted\u001b[0m"
      ]
     },
     "execution_count": 4,
     "metadata": {},
     "output_type": "execute_result"
    }
   ],
   "source": [
    "for col = 1:7\n",
    "    car[!, col] = fit_transform!(le, car[!, col]);\n",
    "end\n",
    "car"
   ]
  },
  {
   "cell_type": "markdown",
   "metadata": {},
   "source": [
    "Seperate data into independent and dependent variables:"
   ]
  },
  {
   "cell_type": "code",
   "execution_count": 5,
   "metadata": {},
   "outputs": [
    {
     "data": {
      "text/plain": [
       "1728×6 Array{Int64,2}:\n",
       " 3  3  0  0  2  1\n",
       " 3  3  0  0  2  2\n",
       " 3  3  0  0  2  0\n",
       " 3  3  0  0  1  1\n",
       " 3  3  0  0  1  2\n",
       " 3  3  0  0  1  0\n",
       " 3  3  0  0  0  1\n",
       " 3  3  0  0  0  2\n",
       " 3  3  0  0  0  0\n",
       " 3  3  0  1  2  1\n",
       " 3  3  0  1  2  2\n",
       " 3  3  0  1  2  0\n",
       " 3  3  0  1  1  1\n",
       " ⋮              ⋮\n",
       " 1  1  3  1  0  1\n",
       " 1  1  3  1  0  2\n",
       " 1  1  3  1  0  0\n",
       " 1  1  3  2  2  1\n",
       " 1  1  3  2  2  2\n",
       " 1  1  3  2  2  0\n",
       " 1  1  3  2  1  1\n",
       " 1  1  3  2  1  2\n",
       " 1  1  3  2  1  0\n",
       " 1  1  3  2  0  1\n",
       " 1  1  3  2  0  2\n",
       " 1  1  3  2  0  0"
      ]
     },
     "execution_count": 5,
     "metadata": {},
     "output_type": "execute_result"
    }
   ],
   "source": [
    "car_x = convert(Array, car[:,collect(1:6)])"
   ]
  },
  {
   "cell_type": "code",
   "execution_count": 6,
   "metadata": {},
   "outputs": [
    {
     "data": {
      "text/plain": [
       "1728-element Array{Int64,1}:\n",
       " 2\n",
       " 2\n",
       " 2\n",
       " 2\n",
       " 2\n",
       " 2\n",
       " 2\n",
       " 2\n",
       " 2\n",
       " 2\n",
       " 2\n",
       " 2\n",
       " 2\n",
       " ⋮\n",
       " 2\n",
       " 1\n",
       " 3\n",
       " 2\n",
       " 0\n",
       " 1\n",
       " 2\n",
       " 1\n",
       " 3\n",
       " 2\n",
       " 1\n",
       " 3"
      ]
     },
     "execution_count": 6,
     "metadata": {},
     "output_type": "execute_result"
    }
   ],
   "source": [
    "car_y = convert(Array, car[:,7])"
   ]
  },
  {
   "cell_type": "markdown",
   "metadata": {},
   "source": [
    "Split into testing and training. "
   ]
  },
  {
   "cell_type": "code",
   "execution_count": 7,
   "metadata": {},
   "outputs": [],
   "source": [
    "X_train, X_test, y_train, y_test = train_test_split(car_x, car_y, test_size=0.30);"
   ]
  },
  {
   "cell_type": "markdown",
   "metadata": {},
   "source": [
    "## Naive Bayes"
   ]
  },
  {
   "cell_type": "markdown",
   "metadata": {},
   "source": [
    "No hyperparameter tuning was done. "
   ]
  },
  {
   "cell_type": "code",
   "execution_count": 8,
   "metadata": {},
   "outputs": [],
   "source": [
    "car_nb_model = CategoricalNB(); # because all data is categorical"
   ]
  },
  {
   "cell_type": "code",
   "execution_count": 9,
   "metadata": {},
   "outputs": [
    {
     "name": "stdout",
     "output_type": "stream",
     "text": [
      "  0.013685 seconds (29.51 k allocations: 1.569 MiB)\n"
     ]
    }
   ],
   "source": [
    "@time car_nb_model.fit(X_train, y_train);"
   ]
  },
  {
   "cell_type": "code",
   "execution_count": 10,
   "metadata": {},
   "outputs": [
    {
     "name": "stdout",
     "output_type": "stream",
     "text": [
      "  0.022870 seconds (28.44 k allocations: 1.533 MiB)\n"
     ]
    },
    {
     "data": {
      "text/plain": [
       "519-element Array{Int64,1}:\n",
       " 2\n",
       " 3\n",
       " 2\n",
       " 0\n",
       " 0\n",
       " 2\n",
       " 2\n",
       " 2\n",
       " 0\n",
       " 2\n",
       " 0\n",
       " 2\n",
       " 2\n",
       " ⋮\n",
       " 2\n",
       " 2\n",
       " 2\n",
       " 2\n",
       " 2\n",
       " 2\n",
       " 2\n",
       " 0\n",
       " 2\n",
       " 2\n",
       " 2\n",
       " 2"
      ]
     },
     "execution_count": 10,
     "metadata": {},
     "output_type": "execute_result"
    }
   ],
   "source": [
    "@time predictions = predict(car_nb_model, X_test)"
   ]
  },
  {
   "cell_type": "code",
   "execution_count": 11,
   "metadata": {},
   "outputs": [
    {
     "data": {
      "text/plain": [
       "0.8420038535645472"
      ]
     },
     "execution_count": 11,
     "metadata": {},
     "output_type": "execute_result"
    }
   ],
   "source": [
    "accuracy = accuracy_score(predictions, y_test)"
   ]
  },
  {
   "cell_type": "code",
   "execution_count": 12,
   "metadata": {},
   "outputs": [
    {
     "name": "stdout",
     "output_type": "stream",
     "text": [
      "2424 bytes\n"
     ]
    }
   ],
   "source": [
    "println(\"$(sizeof(Pickle.dumps(car_nb_model))) bytes\")"
   ]
  },
  {
   "cell_type": "markdown",
   "metadata": {},
   "source": [
    "## Classification Tree"
   ]
  },
  {
   "cell_type": "markdown",
   "metadata": {},
   "source": [
    "No hyperparameter tuning was done. "
   ]
  },
  {
   "cell_type": "code",
   "execution_count": 13,
   "metadata": {},
   "outputs": [],
   "source": [
    "car_tree_model = DecisionTreeClassifier();"
   ]
  },
  {
   "cell_type": "code",
   "execution_count": 14,
   "metadata": {},
   "outputs": [
    {
     "name": "stdout",
     "output_type": "stream",
     "text": [
      "  0.004260 seconds (17 allocations: 976 bytes)\n"
     ]
    }
   ],
   "source": [
    "@time car_tree_model.fit(X_train, y_train);"
   ]
  },
  {
   "cell_type": "code",
   "execution_count": 15,
   "metadata": {},
   "outputs": [
    {
     "name": "stdout",
     "output_type": "stream",
     "text": [
      "  0.001047 seconds (36 allocations: 5.875 KiB)\n"
     ]
    },
    {
     "data": {
      "text/plain": [
       "519-element Array{Int64,1}:\n",
       " 2\n",
       " 3\n",
       " 2\n",
       " 1\n",
       " 3\n",
       " 2\n",
       " 2\n",
       " 2\n",
       " 0\n",
       " 2\n",
       " 1\n",
       " 2\n",
       " 2\n",
       " ⋮\n",
       " 2\n",
       " 2\n",
       " 2\n",
       " 2\n",
       " 2\n",
       " 0\n",
       " 2\n",
       " 0\n",
       " 2\n",
       " 2\n",
       " 2\n",
       " 2"
      ]
     },
     "execution_count": 15,
     "metadata": {},
     "output_type": "execute_result"
    }
   ],
   "source": [
    "@time predictions = predict(car_tree_model, X_test)"
   ]
  },
  {
   "cell_type": "code",
   "execution_count": 16,
   "metadata": {},
   "outputs": [
    {
     "data": {
      "text/plain": [
       "0.9653179190751445"
      ]
     },
     "execution_count": 16,
     "metadata": {},
     "output_type": "execute_result"
    }
   ],
   "source": [
    "accuracy = accuracy_score(predictions, y_test)"
   ]
  },
  {
   "cell_type": "code",
   "execution_count": 17,
   "metadata": {},
   "outputs": [
    {
     "name": "stdout",
     "output_type": "stream",
     "text": [
      "14053 bytes\n"
     ]
    }
   ],
   "source": [
    "println(\"$(sizeof(Pickle.dumps(car_tree_model))) bytes\")"
   ]
  },
  {
   "cell_type": "markdown",
   "metadata": {},
   "source": [
    "## Support Vector Machines"
   ]
  },
  {
   "cell_type": "markdown",
   "metadata": {},
   "source": [
    "No hyperparameter tuning was done. "
   ]
  },
  {
   "cell_type": "code",
   "execution_count": 18,
   "metadata": {},
   "outputs": [],
   "source": [
    "car_svm_model = SVC();"
   ]
  },
  {
   "cell_type": "code",
   "execution_count": 19,
   "metadata": {},
   "outputs": [
    {
     "name": "stdout",
     "output_type": "stream",
     "text": [
      "  0.072835 seconds (17 allocations: 976 bytes)\n"
     ]
    }
   ],
   "source": [
    "@time car_svm_model.fit(X_train, y_train);"
   ]
  },
  {
   "cell_type": "code",
   "execution_count": 20,
   "metadata": {},
   "outputs": [
    {
     "name": "stdout",
     "output_type": "stream",
     "text": [
      "  0.061201 seconds (36 allocations: 5.875 KiB)\n"
     ]
    },
    {
     "data": {
      "text/plain": [
       "519-element Array{Int64,1}:\n",
       " 2\n",
       " 3\n",
       " 2\n",
       " 0\n",
       " 3\n",
       " 2\n",
       " 2\n",
       " 2\n",
       " 0\n",
       " 2\n",
       " 0\n",
       " 2\n",
       " 2\n",
       " ⋮\n",
       " 2\n",
       " 2\n",
       " 2\n",
       " 2\n",
       " 2\n",
       " 2\n",
       " 2\n",
       " 0\n",
       " 2\n",
       " 2\n",
       " 2\n",
       " 2"
      ]
     },
     "execution_count": 20,
     "metadata": {},
     "output_type": "execute_result"
    }
   ],
   "source": [
    "@time predictions = car_svm_model.predict(X_test)"
   ]
  },
  {
   "cell_type": "code",
   "execution_count": 21,
   "metadata": {},
   "outputs": [
    {
     "data": {
      "text/plain": [
       "0.8901734104046243"
      ]
     },
     "execution_count": 21,
     "metadata": {},
     "output_type": "execute_result"
    }
   ],
   "source": [
    "accuracy = accuracy_score(predictions, y_test)"
   ]
  },
  {
   "cell_type": "code",
   "execution_count": 22,
   "metadata": {},
   "outputs": [
    {
     "name": "stdout",
     "output_type": "stream",
     "text": [
      "49596 bytes\n"
     ]
    }
   ],
   "source": [
    "println(\"$(sizeof(Pickle.dumps(car_svm_model))) bytes\")"
   ]
  },
  {
   "cell_type": "markdown",
   "metadata": {},
   "source": [
    "## Neural Networks"
   ]
  },
  {
   "cell_type": "markdown",
   "metadata": {},
   "source": [
    "No hyperparameter tuning was done. "
   ]
  },
  {
   "cell_type": "code",
   "execution_count": 23,
   "metadata": {},
   "outputs": [],
   "source": [
    "car_nn_model = MLPClassifier();"
   ]
  },
  {
   "cell_type": "code",
   "execution_count": 24,
   "metadata": {},
   "outputs": [
    {
     "name": "stdout",
     "output_type": "stream",
     "text": [
      "  1.114169 seconds (20 allocations: 2.328 KiB)\n"
     ]
    }
   ],
   "source": [
    "@time car_nn_model.fit(X_train, y_train);"
   ]
  },
  {
   "cell_type": "code",
   "execution_count": 25,
   "metadata": {},
   "outputs": [
    {
     "name": "stdout",
     "output_type": "stream",
     "text": [
      "  0.016726 seconds (36 allocations: 5.875 KiB)\n"
     ]
    },
    {
     "data": {
      "text/plain": [
       "519-element Array{Int64,1}:\n",
       " 2\n",
       " 3\n",
       " 2\n",
       " 0\n",
       " 3\n",
       " 2\n",
       " 2\n",
       " 2\n",
       " 0\n",
       " 2\n",
       " 0\n",
       " 2\n",
       " 2\n",
       " ⋮\n",
       " 2\n",
       " 2\n",
       " 2\n",
       " 2\n",
       " 2\n",
       " 2\n",
       " 2\n",
       " 2\n",
       " 2\n",
       " 2\n",
       " 2\n",
       " 2"
      ]
     },
     "execution_count": 25,
     "metadata": {},
     "output_type": "execute_result"
    }
   ],
   "source": [
    "@time predictions = car_nn_model.predict(X_test)"
   ]
  },
  {
   "cell_type": "code",
   "execution_count": 26,
   "metadata": {},
   "outputs": [
    {
     "data": {
      "text/plain": [
       "0.882466281310212"
      ]
     },
     "execution_count": 26,
     "metadata": {},
     "output_type": "execute_result"
    }
   ],
   "source": [
    "accuracy = accuracy_score(predictions, y_test)"
   ]
  },
  {
   "cell_type": "code",
   "execution_count": 27,
   "metadata": {},
   "outputs": [
    {
     "name": "stdout",
     "output_type": "stream",
     "text": [
      "34776 bytes\n"
     ]
    }
   ],
   "source": [
    "println(\"$(sizeof(Pickle.dumps(car_nn_model))) bytes\")"
   ]
  },
  {
   "cell_type": "markdown",
   "metadata": {},
   "source": [
    "# Abalone Data Set"
   ]
  },
  {
   "cell_type": "markdown",
   "metadata": {},
   "source": [
    "## Preprocessing:"
   ]
  },
  {
   "cell_type": "markdown",
   "metadata": {},
   "source": [
    "For all methods, the data was partitioned into a 70-30 training-testing split. The sex column was one hot encoded. The labels were grouped into three categories: 1-8, 9-10, 11+, for better classification results (this was used in paper, Clark, Schreter, and Adams 1996) "
   ]
  },
  {
   "cell_type": "code",
   "execution_count": 28,
   "metadata": {},
   "outputs": [
    {
     "data": {
      "text/html": [
       "<table class=\"data-frame\"><thead><tr><th></th><th>Sex</th><th>Length</th><th>Diameter</th><th>Height</th><th>Whole wt</th><th>Shucked wt</th><th>Viscera wt</th><th>Shucked wt_1</th></tr><tr><th></th><th>String</th><th>Float64</th><th>Float64</th><th>Float64</th><th>Float64</th><th>Float64</th><th>Float64</th><th>Float64</th></tr></thead><tbody><p>4,177 rows × 9 columns (omitted printing of 1 columns)</p><tr><th>1</th><td>M</td><td>0.455</td><td>0.365</td><td>0.095</td><td>0.514</td><td>0.2245</td><td>0.101</td><td>0.15</td></tr><tr><th>2</th><td>M</td><td>0.35</td><td>0.265</td><td>0.09</td><td>0.2255</td><td>0.0995</td><td>0.0485</td><td>0.07</td></tr><tr><th>3</th><td>F</td><td>0.53</td><td>0.42</td><td>0.135</td><td>0.677</td><td>0.2565</td><td>0.1415</td><td>0.21</td></tr><tr><th>4</th><td>M</td><td>0.44</td><td>0.365</td><td>0.125</td><td>0.516</td><td>0.2155</td><td>0.114</td><td>0.155</td></tr><tr><th>5</th><td>I</td><td>0.33</td><td>0.255</td><td>0.08</td><td>0.205</td><td>0.0895</td><td>0.0395</td><td>0.055</td></tr><tr><th>6</th><td>I</td><td>0.425</td><td>0.3</td><td>0.095</td><td>0.3515</td><td>0.141</td><td>0.0775</td><td>0.12</td></tr><tr><th>7</th><td>F</td><td>0.53</td><td>0.415</td><td>0.15</td><td>0.7775</td><td>0.237</td><td>0.1415</td><td>0.33</td></tr><tr><th>8</th><td>F</td><td>0.545</td><td>0.425</td><td>0.125</td><td>0.768</td><td>0.294</td><td>0.1495</td><td>0.26</td></tr><tr><th>9</th><td>M</td><td>0.475</td><td>0.37</td><td>0.125</td><td>0.5095</td><td>0.2165</td><td>0.1125</td><td>0.165</td></tr><tr><th>10</th><td>F</td><td>0.55</td><td>0.44</td><td>0.15</td><td>0.8945</td><td>0.3145</td><td>0.151</td><td>0.32</td></tr><tr><th>11</th><td>F</td><td>0.525</td><td>0.38</td><td>0.14</td><td>0.6065</td><td>0.194</td><td>0.1475</td><td>0.21</td></tr><tr><th>12</th><td>M</td><td>0.43</td><td>0.35</td><td>0.11</td><td>0.406</td><td>0.1675</td><td>0.081</td><td>0.135</td></tr><tr><th>13</th><td>M</td><td>0.49</td><td>0.38</td><td>0.135</td><td>0.5415</td><td>0.2175</td><td>0.095</td><td>0.19</td></tr><tr><th>14</th><td>F</td><td>0.535</td><td>0.405</td><td>0.145</td><td>0.6845</td><td>0.2725</td><td>0.171</td><td>0.205</td></tr><tr><th>15</th><td>F</td><td>0.47</td><td>0.355</td><td>0.1</td><td>0.4755</td><td>0.1675</td><td>0.0805</td><td>0.185</td></tr><tr><th>16</th><td>M</td><td>0.5</td><td>0.4</td><td>0.13</td><td>0.6645</td><td>0.258</td><td>0.133</td><td>0.24</td></tr><tr><th>17</th><td>I</td><td>0.355</td><td>0.28</td><td>0.085</td><td>0.2905</td><td>0.095</td><td>0.0395</td><td>0.115</td></tr><tr><th>18</th><td>F</td><td>0.44</td><td>0.34</td><td>0.1</td><td>0.451</td><td>0.188</td><td>0.087</td><td>0.13</td></tr><tr><th>19</th><td>M</td><td>0.365</td><td>0.295</td><td>0.08</td><td>0.2555</td><td>0.097</td><td>0.043</td><td>0.1</td></tr><tr><th>20</th><td>M</td><td>0.45</td><td>0.32</td><td>0.1</td><td>0.381</td><td>0.1705</td><td>0.075</td><td>0.115</td></tr><tr><th>21</th><td>M</td><td>0.355</td><td>0.28</td><td>0.095</td><td>0.2455</td><td>0.0955</td><td>0.062</td><td>0.075</td></tr><tr><th>22</th><td>I</td><td>0.38</td><td>0.275</td><td>0.1</td><td>0.2255</td><td>0.08</td><td>0.049</td><td>0.085</td></tr><tr><th>23</th><td>F</td><td>0.565</td><td>0.44</td><td>0.155</td><td>0.9395</td><td>0.4275</td><td>0.214</td><td>0.27</td></tr><tr><th>24</th><td>F</td><td>0.55</td><td>0.415</td><td>0.135</td><td>0.7635</td><td>0.318</td><td>0.21</td><td>0.2</td></tr><tr><th>25</th><td>F</td><td>0.615</td><td>0.48</td><td>0.165</td><td>1.1615</td><td>0.513</td><td>0.301</td><td>0.305</td></tr><tr><th>26</th><td>F</td><td>0.56</td><td>0.44</td><td>0.14</td><td>0.9285</td><td>0.3825</td><td>0.188</td><td>0.3</td></tr><tr><th>27</th><td>F</td><td>0.58</td><td>0.45</td><td>0.185</td><td>0.9955</td><td>0.3945</td><td>0.272</td><td>0.285</td></tr><tr><th>28</th><td>M</td><td>0.59</td><td>0.445</td><td>0.14</td><td>0.931</td><td>0.356</td><td>0.234</td><td>0.28</td></tr><tr><th>29</th><td>M</td><td>0.605</td><td>0.475</td><td>0.18</td><td>0.9365</td><td>0.394</td><td>0.219</td><td>0.295</td></tr><tr><th>30</th><td>M</td><td>0.575</td><td>0.425</td><td>0.14</td><td>0.8635</td><td>0.393</td><td>0.227</td><td>0.2</td></tr><tr><th>&vellip;</th><td>&vellip;</td><td>&vellip;</td><td>&vellip;</td><td>&vellip;</td><td>&vellip;</td><td>&vellip;</td><td>&vellip;</td><td>&vellip;</td></tr></tbody></table>"
      ],
      "text/latex": [
       "\\begin{tabular}{r|ccccccccc}\n",
       "\t& Sex & Length & Diameter & Height & Whole wt & Shucked wt & Viscera wt & Shucked wt\\_1 & \\\\\n",
       "\t\\hline\n",
       "\t& String & Float64 & Float64 & Float64 & Float64 & Float64 & Float64 & Float64 & \\\\\n",
       "\t\\hline\n",
       "\t1 & M & 0.455 & 0.365 & 0.095 & 0.514 & 0.2245 & 0.101 & 0.15 & $\\dots$ \\\\\n",
       "\t2 & M & 0.35 & 0.265 & 0.09 & 0.2255 & 0.0995 & 0.0485 & 0.07 & $\\dots$ \\\\\n",
       "\t3 & F & 0.53 & 0.42 & 0.135 & 0.677 & 0.2565 & 0.1415 & 0.21 & $\\dots$ \\\\\n",
       "\t4 & M & 0.44 & 0.365 & 0.125 & 0.516 & 0.2155 & 0.114 & 0.155 & $\\dots$ \\\\\n",
       "\t5 & I & 0.33 & 0.255 & 0.08 & 0.205 & 0.0895 & 0.0395 & 0.055 & $\\dots$ \\\\\n",
       "\t6 & I & 0.425 & 0.3 & 0.095 & 0.3515 & 0.141 & 0.0775 & 0.12 & $\\dots$ \\\\\n",
       "\t7 & F & 0.53 & 0.415 & 0.15 & 0.7775 & 0.237 & 0.1415 & 0.33 & $\\dots$ \\\\\n",
       "\t8 & F & 0.545 & 0.425 & 0.125 & 0.768 & 0.294 & 0.1495 & 0.26 & $\\dots$ \\\\\n",
       "\t9 & M & 0.475 & 0.37 & 0.125 & 0.5095 & 0.2165 & 0.1125 & 0.165 & $\\dots$ \\\\\n",
       "\t10 & F & 0.55 & 0.44 & 0.15 & 0.8945 & 0.3145 & 0.151 & 0.32 & $\\dots$ \\\\\n",
       "\t11 & F & 0.525 & 0.38 & 0.14 & 0.6065 & 0.194 & 0.1475 & 0.21 & $\\dots$ \\\\\n",
       "\t12 & M & 0.43 & 0.35 & 0.11 & 0.406 & 0.1675 & 0.081 & 0.135 & $\\dots$ \\\\\n",
       "\t13 & M & 0.49 & 0.38 & 0.135 & 0.5415 & 0.2175 & 0.095 & 0.19 & $\\dots$ \\\\\n",
       "\t14 & F & 0.535 & 0.405 & 0.145 & 0.6845 & 0.2725 & 0.171 & 0.205 & $\\dots$ \\\\\n",
       "\t15 & F & 0.47 & 0.355 & 0.1 & 0.4755 & 0.1675 & 0.0805 & 0.185 & $\\dots$ \\\\\n",
       "\t16 & M & 0.5 & 0.4 & 0.13 & 0.6645 & 0.258 & 0.133 & 0.24 & $\\dots$ \\\\\n",
       "\t17 & I & 0.355 & 0.28 & 0.085 & 0.2905 & 0.095 & 0.0395 & 0.115 & $\\dots$ \\\\\n",
       "\t18 & F & 0.44 & 0.34 & 0.1 & 0.451 & 0.188 & 0.087 & 0.13 & $\\dots$ \\\\\n",
       "\t19 & M & 0.365 & 0.295 & 0.08 & 0.2555 & 0.097 & 0.043 & 0.1 & $\\dots$ \\\\\n",
       "\t20 & M & 0.45 & 0.32 & 0.1 & 0.381 & 0.1705 & 0.075 & 0.115 & $\\dots$ \\\\\n",
       "\t21 & M & 0.355 & 0.28 & 0.095 & 0.2455 & 0.0955 & 0.062 & 0.075 & $\\dots$ \\\\\n",
       "\t22 & I & 0.38 & 0.275 & 0.1 & 0.2255 & 0.08 & 0.049 & 0.085 & $\\dots$ \\\\\n",
       "\t23 & F & 0.565 & 0.44 & 0.155 & 0.9395 & 0.4275 & 0.214 & 0.27 & $\\dots$ \\\\\n",
       "\t24 & F & 0.55 & 0.415 & 0.135 & 0.7635 & 0.318 & 0.21 & 0.2 & $\\dots$ \\\\\n",
       "\t25 & F & 0.615 & 0.48 & 0.165 & 1.1615 & 0.513 & 0.301 & 0.305 & $\\dots$ \\\\\n",
       "\t26 & F & 0.56 & 0.44 & 0.14 & 0.9285 & 0.3825 & 0.188 & 0.3 & $\\dots$ \\\\\n",
       "\t27 & F & 0.58 & 0.45 & 0.185 & 0.9955 & 0.3945 & 0.272 & 0.285 & $\\dots$ \\\\\n",
       "\t28 & M & 0.59 & 0.445 & 0.14 & 0.931 & 0.356 & 0.234 & 0.28 & $\\dots$ \\\\\n",
       "\t29 & M & 0.605 & 0.475 & 0.18 & 0.9365 & 0.394 & 0.219 & 0.295 & $\\dots$ \\\\\n",
       "\t30 & M & 0.575 & 0.425 & 0.14 & 0.8635 & 0.393 & 0.227 & 0.2 & $\\dots$ \\\\\n",
       "\t$\\dots$ & $\\dots$ & $\\dots$ & $\\dots$ & $\\dots$ & $\\dots$ & $\\dots$ & $\\dots$ & $\\dots$ &  \\\\\n",
       "\\end{tabular}\n"
      ],
      "text/plain": [
       "\u001b[1m4177×9 DataFrame\u001b[0m\n",
       "\u001b[1m  Row \u001b[0m│\u001b[1m Sex    \u001b[0m\u001b[1m Length  \u001b[0m\u001b[1m Diameter \u001b[0m\u001b[1m Height  \u001b[0m\u001b[1m Whole wt \u001b[0m\u001b[1m Shucked wt \u001b[0m\u001b[1m Viscera wt \u001b[0m\u001b[1m \u001b[0m ⋯\n",
       "\u001b[1m      \u001b[0m│\u001b[90m String \u001b[0m\u001b[90m Float64 \u001b[0m\u001b[90m Float64  \u001b[0m\u001b[90m Float64 \u001b[0m\u001b[90m Float64  \u001b[0m\u001b[90m Float64    \u001b[0m\u001b[90m Float64    \u001b[0m\u001b[90m \u001b[0m ⋯\n",
       "──────┼─────────────────────────────────────────────────────────────────────────\n",
       "    1 │ M         0.455     0.365    0.095    0.514       0.2245      0.101    ⋯\n",
       "    2 │ M         0.35      0.265    0.09     0.2255      0.0995      0.0485\n",
       "    3 │ F         0.53      0.42     0.135    0.677       0.2565      0.1415\n",
       "    4 │ M         0.44      0.365    0.125    0.516       0.2155      0.114\n",
       "    5 │ I         0.33      0.255    0.08     0.205       0.0895      0.0395   ⋯\n",
       "    6 │ I         0.425     0.3      0.095    0.3515      0.141       0.0775\n",
       "    7 │ F         0.53      0.415    0.15     0.7775      0.237       0.1415\n",
       "    8 │ F         0.545     0.425    0.125    0.768       0.294       0.1495\n",
       "    9 │ M         0.475     0.37     0.125    0.5095      0.2165      0.1125   ⋯\n",
       "   10 │ F         0.55      0.44     0.15     0.8945      0.3145      0.151\n",
       "   11 │ F         0.525     0.38     0.14     0.6065      0.194       0.1475\n",
       "  ⋮   │   ⋮        ⋮        ⋮         ⋮        ⋮          ⋮           ⋮        ⋱\n",
       " 4168 │ M         0.5       0.38     0.125    0.577       0.269       0.1265\n",
       " 4169 │ F         0.515     0.4      0.125    0.615       0.2865      0.123    ⋯\n",
       " 4170 │ M         0.52      0.385    0.165    0.791       0.375       0.18\n",
       " 4171 │ M         0.55      0.43     0.13     0.8395      0.3155      0.1955\n",
       " 4172 │ M         0.56      0.43     0.155    0.8675      0.4         0.172\n",
       " 4173 │ F         0.565     0.45     0.165    0.887       0.37        0.239    ⋯\n",
       " 4174 │ M         0.59      0.44     0.135    0.966       0.439       0.2145\n",
       " 4175 │ M         0.6       0.475    0.205    1.176       0.5255      0.2875\n",
       " 4176 │ F         0.625     0.485    0.15     1.0945      0.531       0.261\n",
       " 4177 │ M         0.71      0.555    0.195    1.9485      0.9455      0.3765   ⋯\n",
       "\u001b[36m                                                 2 columns and 4156 rows omitted\u001b[0m"
      ]
     },
     "execution_count": 28,
     "metadata": {},
     "output_type": "execute_result"
    }
   ],
   "source": [
    "abalone = CSV.File(\n",
    "    \"abalone/abalone.data\", \n",
    "    header=[\"Sex\", \"Length\", \"Diameter\", \"Height\", \"Whole wt\", \"Shucked wt\", \"Viscera wt\", \"Shucked wt\", \"Rings\"]\n",
    "    ) |> DataFrame"
   ]
  },
  {
   "cell_type": "markdown",
   "metadata": {},
   "source": [
    "Perform one hot encoding on sex:"
   ]
  },
  {
   "cell_type": "code",
   "execution_count": 29,
   "metadata": {},
   "outputs": [],
   "source": [
    "lb = LabelBinarizer();"
   ]
  },
  {
   "cell_type": "code",
   "execution_count": 30,
   "metadata": {},
   "outputs": [],
   "source": [
    "sex_encoded = fit_transform!(lb, abalone[!,1]);"
   ]
  },
  {
   "cell_type": "code",
   "execution_count": 31,
   "metadata": {},
   "outputs": [],
   "source": [
    "select!(abalone, Not(:Sex)); # remove sex column"
   ]
  },
  {
   "cell_type": "code",
   "execution_count": 32,
   "metadata": {},
   "outputs": [],
   "source": [
    "insertcols!(abalone, 1, :M => sex_encoded[:,1], :F => sex_encoded[:,2], :I => sex_encoded[:,3]); # append encoded columns"
   ]
  },
  {
   "cell_type": "markdown",
   "metadata": {},
   "source": [
    "Split data set into X and y"
   ]
  },
  {
   "cell_type": "code",
   "execution_count": 33,
   "metadata": {},
   "outputs": [
    {
     "data": {
      "text/plain": [
       "4177×10 Array{Float64,2}:\n",
       " 0.0  0.0  1.0  0.455  0.365  0.095  0.514   0.2245  0.101   0.15\n",
       " 0.0  0.0  1.0  0.35   0.265  0.09   0.2255  0.0995  0.0485  0.07\n",
       " 1.0  0.0  0.0  0.53   0.42   0.135  0.677   0.2565  0.1415  0.21\n",
       " 0.0  0.0  1.0  0.44   0.365  0.125  0.516   0.2155  0.114   0.155\n",
       " 0.0  1.0  0.0  0.33   0.255  0.08   0.205   0.0895  0.0395  0.055\n",
       " 0.0  1.0  0.0  0.425  0.3    0.095  0.3515  0.141   0.0775  0.12\n",
       " 1.0  0.0  0.0  0.53   0.415  0.15   0.7775  0.237   0.1415  0.33\n",
       " 1.0  0.0  0.0  0.545  0.425  0.125  0.768   0.294   0.1495  0.26\n",
       " 0.0  0.0  1.0  0.475  0.37   0.125  0.5095  0.2165  0.1125  0.165\n",
       " 1.0  0.0  0.0  0.55   0.44   0.15   0.8945  0.3145  0.151   0.32\n",
       " 1.0  0.0  0.0  0.525  0.38   0.14   0.6065  0.194   0.1475  0.21\n",
       " 0.0  0.0  1.0  0.43   0.35   0.11   0.406   0.1675  0.081   0.135\n",
       " 0.0  0.0  1.0  0.49   0.38   0.135  0.5415  0.2175  0.095   0.19\n",
       " ⋮                            ⋮                              \n",
       " 0.0  1.0  0.0  0.405  0.3    0.085  0.3035  0.15    0.0505  0.088\n",
       " 0.0  1.0  0.0  0.475  0.365  0.115  0.499   0.232   0.0885  0.156\n",
       " 0.0  0.0  1.0  0.5    0.38   0.125  0.577   0.269   0.1265  0.1535\n",
       " 1.0  0.0  0.0  0.515  0.4    0.125  0.615   0.2865  0.123   0.1765\n",
       " 0.0  0.0  1.0  0.52   0.385  0.165  0.791   0.375   0.18    0.1815\n",
       " 0.0  0.0  1.0  0.55   0.43   0.13   0.8395  0.3155  0.1955  0.2405\n",
       " 0.0  0.0  1.0  0.56   0.43   0.155  0.8675  0.4     0.172   0.229\n",
       " 1.0  0.0  0.0  0.565  0.45   0.165  0.887   0.37    0.239   0.249\n",
       " 0.0  0.0  1.0  0.59   0.44   0.135  0.966   0.439   0.2145  0.2605\n",
       " 0.0  0.0  1.0  0.6    0.475  0.205  1.176   0.5255  0.2875  0.308\n",
       " 1.0  0.0  0.0  0.625  0.485  0.15   1.0945  0.531   0.261   0.296\n",
       " 0.0  0.0  1.0  0.71   0.555  0.195  1.9485  0.9455  0.3765  0.495"
      ]
     },
     "execution_count": 33,
     "metadata": {},
     "output_type": "execute_result"
    }
   ],
   "source": [
    "abalone_x = convert(Array, abalone[:,collect(1:10)])"
   ]
  },
  {
   "cell_type": "code",
   "execution_count": 34,
   "metadata": {},
   "outputs": [
    {
     "data": {
      "text/plain": [
       "4177-element Array{Int64,1}:\n",
       " 15\n",
       "  7\n",
       "  9\n",
       " 10\n",
       "  7\n",
       "  8\n",
       " 20\n",
       " 16\n",
       "  9\n",
       " 19\n",
       " 14\n",
       " 10\n",
       " 11\n",
       "  ⋮\n",
       "  7\n",
       " 10\n",
       "  9\n",
       "  8\n",
       " 10\n",
       " 10\n",
       "  8\n",
       " 11\n",
       " 10\n",
       "  9\n",
       " 10\n",
       " 12"
      ]
     },
     "execution_count": 34,
     "metadata": {},
     "output_type": "execute_result"
    }
   ],
   "source": [
    "abalone_y = convert(Array, abalone[:,11])"
   ]
  },
  {
   "cell_type": "markdown",
   "metadata": {},
   "source": [
    "Transform y into three categories, 1-8, 9-10, 11+, for better classification results (this was also used in Clark, Schreter, and Adams 1996)"
   ]
  },
  {
   "cell_type": "code",
   "execution_count": 35,
   "metadata": {},
   "outputs": [
    {
     "data": {
      "text/plain": [
       "4177-element Array{Int64,1}:\n",
       " 3\n",
       " 1\n",
       " 2\n",
       " 2\n",
       " 1\n",
       " 1\n",
       " 3\n",
       " 3\n",
       " 2\n",
       " 3\n",
       " 3\n",
       " 2\n",
       " 3\n",
       " ⋮\n",
       " 1\n",
       " 2\n",
       " 2\n",
       " 1\n",
       " 2\n",
       " 2\n",
       " 1\n",
       " 3\n",
       " 2\n",
       " 2\n",
       " 2\n",
       " 3"
      ]
     },
     "execution_count": 35,
     "metadata": {},
     "output_type": "execute_result"
    }
   ],
   "source": [
    "for i = 1:length(abalone_y)\n",
    "    val = abalone_y[i]\n",
    "    if (val >= 1 && val <= 8)\n",
    "        abalone_y[i] = 1\n",
    "    elseif (val >= 9 && val <= 10)\n",
    "        abalone_y[i] = 2\n",
    "    else\n",
    "        abalone_y[i] = 3\n",
    "    end\n",
    "end\n",
    "abalone_y"
   ]
  },
  {
   "cell_type": "markdown",
   "metadata": {},
   "source": [
    "Split into training and testing:"
   ]
  },
  {
   "cell_type": "code",
   "execution_count": 36,
   "metadata": {},
   "outputs": [],
   "source": [
    "X_train, X_test, y_train, y_test = train_test_split(abalone_x, abalone_y, test_size=0.30);"
   ]
  },
  {
   "cell_type": "markdown",
   "metadata": {},
   "source": [
    "## Naive Bayes"
   ]
  },
  {
   "cell_type": "markdown",
   "metadata": {},
   "source": [
    "I used a Gaussian Naive Bayes classifier since most of the data were continous values. "
   ]
  },
  {
   "cell_type": "code",
   "execution_count": 37,
   "metadata": {},
   "outputs": [],
   "source": [
    "abalone_nb_model = GaussianNB();"
   ]
  },
  {
   "cell_type": "code",
   "execution_count": 38,
   "metadata": {},
   "outputs": [
    {
     "name": "stdout",
     "output_type": "stream",
     "text": [
      "  0.027623 seconds (29.50 k allocations: 1.567 MiB)\n"
     ]
    }
   ],
   "source": [
    "@time abalone_nb_model.fit(X_train, y_train);"
   ]
  },
  {
   "cell_type": "code",
   "execution_count": 39,
   "metadata": {},
   "outputs": [
    {
     "name": "stdout",
     "output_type": "stream",
     "text": [
      "  0.015612 seconds (25.01 k allocations: 1.351 MiB)\n"
     ]
    },
    {
     "data": {
      "text/plain": [
       "1254-element Array{Int64,1}:\n",
       " 3\n",
       " 3\n",
       " 2\n",
       " 2\n",
       " 1\n",
       " 1\n",
       " 3\n",
       " 2\n",
       " 2\n",
       " 2\n",
       " 2\n",
       " 3\n",
       " 1\n",
       " ⋮\n",
       " 1\n",
       " 3\n",
       " 1\n",
       " 3\n",
       " 3\n",
       " 2\n",
       " 2\n",
       " 2\n",
       " 2\n",
       " 2\n",
       " 2\n",
       " 2"
      ]
     },
     "execution_count": 39,
     "metadata": {},
     "output_type": "execute_result"
    }
   ],
   "source": [
    "@time predictions = abalone_nb_model.predict(X_test)"
   ]
  },
  {
   "cell_type": "code",
   "execution_count": 40,
   "metadata": {},
   "outputs": [
    {
     "data": {
      "text/plain": [
       "0.5701754385964912"
      ]
     },
     "execution_count": 40,
     "metadata": {},
     "output_type": "execute_result"
    }
   ],
   "source": [
    "accuracy = accuracy_score(predictions, y_test)"
   ]
  },
  {
   "cell_type": "code",
   "execution_count": 41,
   "metadata": {},
   "outputs": [
    {
     "name": "stdout",
     "output_type": "stream",
     "text": [
      "1084 bytes\n"
     ]
    }
   ],
   "source": [
    "println(\"$(sizeof(Pickle.dumps(abalone_nb_model))) bytes\")"
   ]
  },
  {
   "cell_type": "markdown",
   "metadata": {},
   "source": [
    "## Classification Tree"
   ]
  },
  {
   "cell_type": "markdown",
   "metadata": {},
   "source": [
    "No hyperparameter tuning was done here. "
   ]
  },
  {
   "cell_type": "code",
   "execution_count": 42,
   "metadata": {},
   "outputs": [],
   "source": [
    "abalone_tree_model = DecisionTreeClassifier();"
   ]
  },
  {
   "cell_type": "code",
   "execution_count": 43,
   "metadata": {},
   "outputs": [
    {
     "name": "stdout",
     "output_type": "stream",
     "text": [
      "  0.041816 seconds (17 allocations: 976 bytes)\n"
     ]
    }
   ],
   "source": [
    "@time abalone_tree_model.fit(X_train, y_train);"
   ]
  },
  {
   "cell_type": "code",
   "execution_count": 44,
   "metadata": {},
   "outputs": [
    {
     "name": "stdout",
     "output_type": "stream",
     "text": [
      "  0.000516 seconds (36 allocations: 11.625 KiB)\n"
     ]
    },
    {
     "data": {
      "text/plain": [
       "1254-element Array{Int64,1}:\n",
       " 3\n",
       " 3\n",
       " 2\n",
       " 2\n",
       " 1\n",
       " 1\n",
       " 2\n",
       " 2\n",
       " 1\n",
       " 3\n",
       " 1\n",
       " 2\n",
       " 2\n",
       " ⋮\n",
       " 1\n",
       " 2\n",
       " 2\n",
       " 2\n",
       " 2\n",
       " 2\n",
       " 2\n",
       " 2\n",
       " 3\n",
       " 2\n",
       " 1\n",
       " 2"
      ]
     },
     "execution_count": 44,
     "metadata": {},
     "output_type": "execute_result"
    }
   ],
   "source": [
    "@time predictions = abalone_tree_model.predict(X_test)"
   ]
  },
  {
   "cell_type": "code",
   "execution_count": 45,
   "metadata": {},
   "outputs": [
    {
     "data": {
      "text/plain": [
       "0.5606060606060606"
      ]
     },
     "execution_count": 45,
     "metadata": {},
     "output_type": "execute_result"
    }
   ],
   "source": [
    "accuracy = accuracy_score(predictions, y_test)"
   ]
  },
  {
   "cell_type": "code",
   "execution_count": 46,
   "metadata": {},
   "outputs": [
    {
     "name": "stdout",
     "output_type": "stream",
     "text": [
      "121361 bytes\n"
     ]
    }
   ],
   "source": [
    "println(\"$(sizeof(Pickle.dumps(abalone_tree_model))) bytes\")"
   ]
  },
  {
   "cell_type": "markdown",
   "metadata": {},
   "source": [
    "## Support Vector Machine"
   ]
  },
  {
   "cell_type": "markdown",
   "metadata": {},
   "source": [
    "No hyper parameter tuning was done here. "
   ]
  },
  {
   "cell_type": "code",
   "execution_count": 47,
   "metadata": {},
   "outputs": [],
   "source": [
    "abalone_svm_model = SVC();"
   ]
  },
  {
   "cell_type": "code",
   "execution_count": 48,
   "metadata": {},
   "outputs": [
    {
     "name": "stdout",
     "output_type": "stream",
     "text": [
      "  0.364268 seconds (17 allocations: 976 bytes)\n"
     ]
    }
   ],
   "source": [
    "@time abalone_svm_model.fit(X_train, y_train);"
   ]
  },
  {
   "cell_type": "code",
   "execution_count": 49,
   "metadata": {},
   "outputs": [
    {
     "name": "stdout",
     "output_type": "stream",
     "text": [
      "  0.480712 seconds (36 allocations: 11.625 KiB)\n"
     ]
    },
    {
     "data": {
      "text/plain": [
       "1254-element Array{Int64,1}:\n",
       " 2\n",
       " 3\n",
       " 2\n",
       " 2\n",
       " 1\n",
       " 2\n",
       " 3\n",
       " 2\n",
       " 2\n",
       " 2\n",
       " 2\n",
       " 3\n",
       " 1\n",
       " ⋮\n",
       " 1\n",
       " 3\n",
       " 1\n",
       " 2\n",
       " 2\n",
       " 3\n",
       " 2\n",
       " 2\n",
       " 3\n",
       " 3\n",
       " 2\n",
       " 3"
      ]
     },
     "execution_count": 49,
     "metadata": {},
     "output_type": "execute_result"
    }
   ],
   "source": [
    "@time predictions = abalone_svm_model.predict(X_test)"
   ]
  },
  {
   "cell_type": "code",
   "execution_count": 50,
   "metadata": {},
   "outputs": [
    {
     "data": {
      "text/plain": [
       "0.6427432216905901"
      ]
     },
     "execution_count": 50,
     "metadata": {},
     "output_type": "execute_result"
    }
   ],
   "source": [
    "accuracy = accuracy_score(predictions, y_test)"
   ]
  },
  {
   "cell_type": "code",
   "execution_count": 51,
   "metadata": {},
   "outputs": [
    {
     "name": "stdout",
     "output_type": "stream",
     "text": [
      "218201 bytes\n"
     ]
    }
   ],
   "source": [
    "println(\"$(sizeof(Pickle.dumps(abalone_svm_model))) bytes\")"
   ]
  },
  {
   "cell_type": "markdown",
   "metadata": {},
   "source": [
    "## Neural Network"
   ]
  },
  {
   "cell_type": "markdown",
   "metadata": {},
   "source": [
    "No hyper parameter tuning was done here. "
   ]
  },
  {
   "cell_type": "code",
   "execution_count": 52,
   "metadata": {},
   "outputs": [],
   "source": [
    "abalone_nn_model = MLPClassifier();"
   ]
  },
  {
   "cell_type": "code",
   "execution_count": 53,
   "metadata": {},
   "outputs": [
    {
     "name": "stdout",
     "output_type": "stream",
     "text": [
      "  2.312146 seconds (17 allocations: 976 bytes)\n"
     ]
    }
   ],
   "source": [
    "@time abalone_nn_model.fit(X_train, y_train);"
   ]
  },
  {
   "cell_type": "code",
   "execution_count": 54,
   "metadata": {},
   "outputs": [
    {
     "name": "stdout",
     "output_type": "stream",
     "text": [
      "  0.004024 seconds (36 allocations: 11.625 KiB)\n"
     ]
    },
    {
     "data": {
      "text/plain": [
       "1254-element Array{Int64,1}:\n",
       " 2\n",
       " 3\n",
       " 2\n",
       " 2\n",
       " 1\n",
       " 1\n",
       " 3\n",
       " 2\n",
       " 2\n",
       " 2\n",
       " 1\n",
       " 3\n",
       " 1\n",
       " ⋮\n",
       " 1\n",
       " 3\n",
       " 1\n",
       " 2\n",
       " 2\n",
       " 3\n",
       " 2\n",
       " 2\n",
       " 3\n",
       " 3\n",
       " 2\n",
       " 3"
      ]
     },
     "execution_count": 54,
     "metadata": {},
     "output_type": "execute_result"
    }
   ],
   "source": [
    "@time predictions = abalone_nn_model.predict(X_test)"
   ]
  },
  {
   "cell_type": "code",
   "execution_count": 55,
   "metadata": {},
   "outputs": [
    {
     "data": {
      "text/plain": [
       "0.6499202551834131"
      ]
     },
     "execution_count": 55,
     "metadata": {},
     "output_type": "execute_result"
    }
   ],
   "source": [
    "accuracy = accuracy_score(predictions, y_test)"
   ]
  },
  {
   "cell_type": "code",
   "execution_count": 56,
   "metadata": {},
   "outputs": [
    {
     "name": "stdout",
     "output_type": "stream",
     "text": [
      "41944 bytes\n"
     ]
    }
   ],
   "source": [
    "println(\"$(sizeof(Pickle.dumps(abalone_nn_model))) bytes\")"
   ]
  },
  {
   "cell_type": "markdown",
   "metadata": {},
   "source": [
    "# Madelon Data Set"
   ]
  },
  {
   "cell_type": "markdown",
   "metadata": {},
   "source": [
    "## Preprocessing"
   ]
  },
  {
   "cell_type": "markdown",
   "metadata": {},
   "source": [
    "For all methods, the data was partitioned into a 70-30 training-testing split. The validation data set also used for testing since the training data did not have labels."
   ]
  },
  {
   "cell_type": "code",
   "execution_count": 57,
   "metadata": {},
   "outputs": [
    {
     "data": {
      "text/plain": [
       "2000×500 Array{Int16,2}:\n",
       " 485  477  537  479  452  471  491  476  …  485  511  485  481  479  475  496\n",
       " 483  458  460  487  587  475  526  479     338  513  486  483  492  510  517\n",
       " 487  542  499  468  448  471  442  478     650  506  501  480  489  499  498\n",
       " 480  491  510  485  495  472  417  474     572  454  469  475  482  494  461\n",
       " 484  502  528  489  466  481  402  478     435  486  508  481  504  495  511\n",
       " 481  496  451  480  516  484  484  476  …  435  491  564  482  463  457  500\n",
       " 484  533  498  466  577  482  471  477     648  484  475  479  475  462  484\n",
       " 474  468  598  490  530  482  448  476     351  462  533  480  501  529  489\n",
       " 484  498  558  489  508  478  471  478     633  453  556  458  473  531  440\n",
       " 496  448  570  476  477  481  595  477     576  511  508  478  486  582  496\n",
       " 478  446  457  475  468  475  482  479  …  491  512  476  471  501  550  517\n",
       " 486  479  528  483  530  484  479  477     599  459  452  475  496  505  485\n",
       " 466  486  540  492  500  475  491  474     696  470  503  473  493  506  522\n",
       "   ⋮                        ⋮            ⋱              ⋮                 \n",
       " 482  447  463  485  526  489  429  477     487  529  520  475  485  552  459\n",
       " 486  473  525  486  443  477  458  475     639  522  558  474  477  579  504\n",
       " 475  403  544  488  452  481  541  476  …  438  450  500  461  485  525  510\n",
       " 482  541  590  487  461  483  389  477     304  455  539  480  506  552  478\n",
       " 495  456  538  496  467  495  443  475     488  451  515  485  463  504  507\n",
       " 477  501  518  496  479  472  424  476     736  539  546  482  514  557  540\n",
       " 483  466  588  491  381  476  495  476     715  447  485  468  491  569  452\n",
       " 490  505  503  474  463  461  519  476  …  588  499  506  475  463  507  501\n",
       " 480  475  476  480  495  482  515  479     424  454  570  476  493  465  485\n",
       " 480  517  631  470  485  474  535  476     687  488  488  483  500  523  481\n",
       " 484  481  505  478  542  477  518  477     750  486  529  484  473  527  485\n",
       " 474  493  469  486  521  475  494  479     449  463  533  481  489  516  516"
      ]
     },
     "execution_count": 57,
     "metadata": {},
     "output_type": "execute_result"
    }
   ],
   "source": [
    "X_train = CSV.File(\"madelon/madelon_train.data\", delim=\" \", header=false, type=Int16) |> DataFrame\n",
    "select!(X_train, Not(:Column501)) # remove 501st column because there's an extra space at the end of each line\n",
    "X_train = convert(Array, X_train)"
   ]
  },
  {
   "cell_type": "code",
   "execution_count": 58,
   "metadata": {},
   "outputs": [
    {
     "data": {
      "text/plain": [
       "600×500 Array{Int16,2}:\n",
       " 483  454  513  495  523  469  453  477  …  259  413  520  485  498  523  510\n",
       " 485  508  493  487  478  472  504  476     534  514  452  484  495  548  477\n",
       " 483  521  507  475  493  486  421  475     495  508  528  486  465  508  503\n",
       " 474  504  576  480  553  483  524  478     463  509  525  479  467  552  517\n",
       " 495  474  523  479  495  488  485  476     343  509  520  475  493  506  491\n",
       " 474  507  504  495  428  490  498  478  …  503  410  573  477  461  532  520\n",
       " 481  475  509  478  505  489  499  478     351  489  488  487  465  494  519\n",
       " 486  445  444  468  422  484  464  477     715  492  394  475  474  446  481\n",
       " 482  483  525  477  452  480  488  477     557  449  490  484  490  476  466\n",
       " 487  494  498  480  443  486  418  477     417  532  469  470  480  505  529\n",
       " 481  513  513  464  527  462  510  476  …  409  478  447  478  488  508  467\n",
       " 480  487  513  500  538  476  455  474     484  520  505  482  493  519  522\n",
       " 470  436  452  490  549  476  441  477     329  456  499  477  473  489  477\n",
       "   ⋮                        ⋮            ⋱              ⋮                 \n",
       " 482  426  477  490  545  482  500  476     397  479  520  473  496  532  512\n",
       " 478  502  454  489  466  477  494  475     707  544  520  482  487  523  504\n",
       " 481  457  507  498  503  483  523  475  …  582  489  534  470  495  533  451\n",
       " 486  509  424  481  523  478  465  475     570  512  353  481  480  518  439\n",
       " 482  459  560  494  522  492  442  477     631  511  474  477  520  512  448\n",
       " 475  490  617  487  571  478  491  475     465  497  542  475  497  536  427\n",
       " 472  467  484  468  454  482  426  476     479  487  477  474  495  538  492\n",
       " 493  458  503  478  517  479  472  478  …  443  517  486  474  489  506  506\n",
       " 481  484  481  490  449  481  467  478     599  498  527  481  490  455  451\n",
       " 485  485  530  480  444  487  462  475     368  453  482  478  481  484  517\n",
       " 477  469  528  485  483  469  482  477     638  471  538  470  490  613  492\n",
       " 482  453  515  481  500  493  503  477     694  493  499  474  494  536  526"
      ]
     },
     "execution_count": 58,
     "metadata": {},
     "output_type": "execute_result"
    }
   ],
   "source": [
    "X_test = CSV.File(\"madelon/madelon_valid.data\", delim=\" \", header=false, type=Int16) |> DataFrame\n",
    "select!(X_test, Not(:Column501)) # remove 501st column because there's an extra space at the end of each line\n",
    "X_test = convert(Array, X_test)"
   ]
  },
  {
   "cell_type": "code",
   "execution_count": 59,
   "metadata": {},
   "outputs": [
    {
     "data": {
      "text/plain": [
       "2000×1 Array{Int8,2}:\n",
       " -1\n",
       " -1\n",
       " -1\n",
       "  1\n",
       "  1\n",
       "  1\n",
       "  1\n",
       " -1\n",
       "  1\n",
       " -1\n",
       " -1\n",
       " -1\n",
       "  1\n",
       "  ⋮\n",
       " -1\n",
       "  1\n",
       " -1\n",
       " -1\n",
       " -1\n",
       " -1\n",
       "  1\n",
       "  1\n",
       " -1\n",
       " -1\n",
       "  1\n",
       "  1"
      ]
     },
     "execution_count": 59,
     "metadata": {},
     "output_type": "execute_result"
    }
   ],
   "source": [
    "y_train = CSV.File(\"madelon/madelon_train.labels\", header=false, type=Int8) |> DataFrame\n",
    "y_train = convert(Array, y_train)"
   ]
  },
  {
   "cell_type": "code",
   "execution_count": 60,
   "metadata": {},
   "outputs": [
    {
     "data": {
      "text/plain": [
       "600×1 Array{Int8,2}:\n",
       " -1\n",
       " -1\n",
       " -1\n",
       "  1\n",
       " -1\n",
       "  1\n",
       " -1\n",
       " -1\n",
       " -1\n",
       "  1\n",
       "  1\n",
       "  1\n",
       " -1\n",
       "  ⋮\n",
       "  1\n",
       " -1\n",
       " -1\n",
       "  1\n",
       " -1\n",
       " -1\n",
       "  1\n",
       "  1\n",
       "  1\n",
       "  1\n",
       "  1\n",
       " -1"
      ]
     },
     "execution_count": 60,
     "metadata": {},
     "output_type": "execute_result"
    }
   ],
   "source": [
    "y_test = CSV.File(\"madelon/madelon_valid.labels\", header=false, type=Int8) |> DataFrame\n",
    "y_test = convert(Array, y_test)"
   ]
  },
  {
   "cell_type": "markdown",
   "metadata": {},
   "source": [
    "## Naive Bayes"
   ]
  },
  {
   "cell_type": "markdown",
   "metadata": {},
   "source": [
    "I used a gaussian naive bayes classifier since all the features were continuous values. "
   ]
  },
  {
   "cell_type": "code",
   "execution_count": 61,
   "metadata": {},
   "outputs": [],
   "source": [
    "madelone_nb_model = GaussianNB();"
   ]
  },
  {
   "cell_type": "code",
   "execution_count": 62,
   "metadata": {},
   "outputs": [
    {
     "name": "stdout",
     "output_type": "stream",
     "text": [
      "  0.243823 seconds (337.92 k allocations: 16.435 MiB)\n"
     ]
    }
   ],
   "source": [
    "@time madelone_nb_model.fit(X_train, y_train);"
   ]
  },
  {
   "cell_type": "code",
   "execution_count": 63,
   "metadata": {},
   "outputs": [
    {
     "name": "stdout",
     "output_type": "stream",
     "text": [
      "  0.202003 seconds (452.75 k allocations: 24.063 MiB)\n"
     ]
    },
    {
     "data": {
      "text/plain": [
       "600-element Array{Int8,1}:\n",
       "  1\n",
       " -1\n",
       " -1\n",
       "  1\n",
       "  1\n",
       "  1\n",
       " -1\n",
       " -1\n",
       " -1\n",
       "  1\n",
       "  1\n",
       "  1\n",
       "  1\n",
       "  ⋮\n",
       " -1\n",
       " -1\n",
       " -1\n",
       "  1\n",
       "  1\n",
       " -1\n",
       " -1\n",
       " -1\n",
       " -1\n",
       "  1\n",
       "  1\n",
       " -1"
      ]
     },
     "execution_count": 63,
     "metadata": {},
     "output_type": "execute_result"
    }
   ],
   "source": [
    "@time predictions = madelone_nb_model.predict(X_test)"
   ]
  },
  {
   "cell_type": "code",
   "execution_count": 64,
   "metadata": {},
   "outputs": [
    {
     "data": {
      "text/plain": [
       "0.5916666666666667"
      ]
     },
     "execution_count": 64,
     "metadata": {},
     "output_type": "execute_result"
    }
   ],
   "source": [
    "accuracy = accuracy_score(predictions, y_test)"
   ]
  },
  {
   "cell_type": "code",
   "execution_count": 65,
   "metadata": {},
   "outputs": [
    {
     "name": "stdout",
     "output_type": "stream",
     "text": [
      "16577 bytes\n"
     ]
    }
   ],
   "source": [
    "println(\"$(sizeof(Pickle.dumps(madelone_nb_model))) bytes\")"
   ]
  },
  {
   "cell_type": "markdown",
   "metadata": {},
   "source": [
    "## Classification Tree"
   ]
  },
  {
   "cell_type": "markdown",
   "metadata": {},
   "source": [
    "No hyperparameters were tuned here. "
   ]
  },
  {
   "cell_type": "code",
   "execution_count": 66,
   "metadata": {},
   "outputs": [],
   "source": [
    "madelone_tree_model = DecisionTreeClassifier();"
   ]
  },
  {
   "cell_type": "code",
   "execution_count": 67,
   "metadata": {},
   "outputs": [
    {
     "name": "stdout",
     "output_type": "stream",
     "text": [
      "  0.545177 seconds (17 allocations: 976 bytes)\n"
     ]
    }
   ],
   "source": [
    "@time madelone_tree_model.fit(X_train, y_train);"
   ]
  },
  {
   "cell_type": "code",
   "execution_count": 68,
   "metadata": {},
   "outputs": [
    {
     "name": "stdout",
     "output_type": "stream",
     "text": [
      "  0.001536 seconds (55 allocations: 3.562 KiB)\n"
     ]
    },
    {
     "data": {
      "text/plain": [
       "600-element Array{Int8,1}:\n",
       "  1\n",
       " -1\n",
       " -1\n",
       "  1\n",
       " -1\n",
       "  1\n",
       "  1\n",
       " -1\n",
       "  1\n",
       "  1\n",
       "  1\n",
       "  1\n",
       "  1\n",
       "  ⋮\n",
       "  1\n",
       " -1\n",
       " -1\n",
       "  1\n",
       " -1\n",
       " -1\n",
       " -1\n",
       "  1\n",
       " -1\n",
       "  1\n",
       "  1\n",
       " -1"
      ]
     },
     "execution_count": 68,
     "metadata": {},
     "output_type": "execute_result"
    }
   ],
   "source": [
    "@time predictions = madelone_tree_model.predict(X_test)"
   ]
  },
  {
   "cell_type": "code",
   "execution_count": 69,
   "metadata": {},
   "outputs": [
    {
     "data": {
      "text/plain": [
       "0.77"
      ]
     },
     "execution_count": 69,
     "metadata": {},
     "output_type": "execute_result"
    }
   ],
   "source": [
    "accuracy = accuracy_score(predictions, y_test)"
   ]
  },
  {
   "cell_type": "code",
   "execution_count": 70,
   "metadata": {},
   "outputs": [
    {
     "name": "stdout",
     "output_type": "stream",
     "text": [
      "22800 bytes\n"
     ]
    }
   ],
   "source": [
    "println(\"$(sizeof(Pickle.dumps(madelone_tree_model))) bytes\")"
   ]
  },
  {
   "cell_type": "markdown",
   "metadata": {},
   "source": [
    "## Support Vector Machine"
   ]
  },
  {
   "cell_type": "markdown",
   "metadata": {},
   "source": [
    "No hyperparameters were tuned here. "
   ]
  },
  {
   "cell_type": "code",
   "execution_count": 71,
   "metadata": {},
   "outputs": [],
   "source": [
    "madelone_svm_model = SVC();"
   ]
  },
  {
   "cell_type": "code",
   "execution_count": 72,
   "metadata": {},
   "outputs": [
    {
     "name": "stdout",
     "output_type": "stream",
     "text": [
      "  1.463283 seconds (17 allocations: 976 bytes)\n"
     ]
    }
   ],
   "source": [
    "@time madelone_svm_model.fit(X_train, y_train);"
   ]
  },
  {
   "cell_type": "code",
   "execution_count": 73,
   "metadata": {},
   "outputs": [
    {
     "name": "stdout",
     "output_type": "stream",
     "text": [
      "  0.558318 seconds (55 allocations: 3.562 KiB)\n"
     ]
    },
    {
     "data": {
      "text/plain": [
       "600-element Array{Int8,1}:\n",
       " -1\n",
       " -1\n",
       " -1\n",
       "  1\n",
       " -1\n",
       " -1\n",
       " -1\n",
       " -1\n",
       "  1\n",
       "  1\n",
       "  1\n",
       "  1\n",
       "  1\n",
       "  ⋮\n",
       " -1\n",
       " -1\n",
       " -1\n",
       "  1\n",
       " -1\n",
       " -1\n",
       "  1\n",
       " -1\n",
       " -1\n",
       "  1\n",
       "  1\n",
       " -1"
      ]
     },
     "execution_count": 73,
     "metadata": {},
     "output_type": "execute_result"
    }
   ],
   "source": [
    "@time predictions = madelone_svm_model.predict(X_test)"
   ]
  },
  {
   "cell_type": "code",
   "execution_count": 74,
   "metadata": {},
   "outputs": [
    {
     "data": {
      "text/plain": [
       "0.6866666666666666"
      ]
     },
     "execution_count": 74,
     "metadata": {},
     "output_type": "execute_result"
    }
   ],
   "source": [
    "accuracy = accuracy_score(predictions, y_test)"
   ]
  },
  {
   "cell_type": "code",
   "execution_count": 75,
   "metadata": {},
   "outputs": [
    {
     "name": "stdout",
     "output_type": "stream",
     "text": [
      "7301494 bytes\n"
     ]
    }
   ],
   "source": [
    "println(\"$(sizeof(Pickle.dumps(madelone_svm_model))) bytes\")"
   ]
  },
  {
   "cell_type": "markdown",
   "metadata": {},
   "source": [
    "## Neural Network"
   ]
  },
  {
   "cell_type": "markdown",
   "metadata": {},
   "source": [
    "No hyperparameters were turned here. "
   ]
  },
  {
   "cell_type": "code",
   "execution_count": 76,
   "metadata": {},
   "outputs": [],
   "source": [
    "madelone_nn_model = MLPClassifier();"
   ]
  },
  {
   "cell_type": "code",
   "execution_count": 77,
   "metadata": {},
   "outputs": [
    {
     "name": "stdout",
     "output_type": "stream",
     "text": [
      "  1.219762 seconds (17 allocations: 976 bytes)\n"
     ]
    }
   ],
   "source": [
    "@time madelone_nn_model.fit(X_train, y_train);"
   ]
  },
  {
   "cell_type": "code",
   "execution_count": 78,
   "metadata": {},
   "outputs": [
    {
     "name": "stdout",
     "output_type": "stream",
     "text": [
      "  0.004404 seconds (55 allocations: 3.562 KiB)\n"
     ]
    },
    {
     "data": {
      "text/plain": [
       "600-element Array{Int8,1}:\n",
       " 1\n",
       " 1\n",
       " 1\n",
       " 1\n",
       " 1\n",
       " 1\n",
       " 1\n",
       " 1\n",
       " 1\n",
       " 1\n",
       " 1\n",
       " 1\n",
       " 1\n",
       " ⋮\n",
       " 1\n",
       " 1\n",
       " 1\n",
       " 1\n",
       " 1\n",
       " 1\n",
       " 1\n",
       " 1\n",
       " 1\n",
       " 1\n",
       " 1\n",
       " 1"
      ]
     },
     "execution_count": 78,
     "metadata": {},
     "output_type": "execute_result"
    }
   ],
   "source": [
    "@time predictions = madelone_nn_model.predict(X_test)"
   ]
  },
  {
   "cell_type": "code",
   "execution_count": 79,
   "metadata": {},
   "outputs": [
    {
     "data": {
      "text/plain": [
       "0.5116666666666667"
      ]
     },
     "execution_count": 79,
     "metadata": {},
     "output_type": "execute_result"
    }
   ],
   "source": [
    "accuracy = accuracy_score(predictions, y_test)"
   ]
  },
  {
   "cell_type": "code",
   "execution_count": 80,
   "metadata": {},
   "outputs": [
    {
     "name": "stdout",
     "output_type": "stream",
     "text": [
      "1209848 bytes\n"
     ]
    }
   ],
   "source": [
    "println(\"$(sizeof(Pickle.dumps(madelone_nn_model))) bytes\")"
   ]
  },
  {
   "cell_type": "markdown",
   "metadata": {},
   "source": [
    "# KDD Data Set"
   ]
  },
  {
   "cell_type": "markdown",
   "metadata": {},
   "source": [
    "## Preprocessing"
   ]
  },
  {
   "cell_type": "markdown",
   "metadata": {},
   "source": [
    "For the Naive Bayes and Classification Tree methods, the data was partioned into a 70-30 split using only the 10% data set (since the full dataset would cause my laptop to run out of memory as well as cause the methods to take much longer). For the Support Vector Machine and Neural Network methods, the data was also partioned into a 70-30 split using only the 10% data set but it was further shrunken by only using 30% of the partitioned data, since any larger would cause out of memory errors and for methods to take much longer to predict and train. \n",
    "For all 4 methods, the protocol_type, service, and flag columns were label encoded. "
   ]
  },
  {
   "cell_type": "code",
   "execution_count": 81,
   "metadata": {},
   "outputs": [
    {
     "data": {
      "text/html": [
       "<table class=\"data-frame\"><thead><tr><th></th><th>duration</th><th>protocol_type</th><th>service</th><th>flag</th><th>src_bytes</th><th>dst_bytes</th><th>land</th><th>wrong_fragment</th></tr><tr><th></th><th>Int64</th><th>String</th><th>String</th><th>String</th><th>Int64</th><th>Int64</th><th>Int64</th><th>Int64</th></tr></thead><tbody><p>494,021 rows × 42 columns (omitted printing of 34 columns)</p><tr><th>1</th><td>0</td><td>tcp</td><td>http</td><td>SF</td><td>181</td><td>5450</td><td>0</td><td>0</td></tr><tr><th>2</th><td>0</td><td>tcp</td><td>http</td><td>SF</td><td>239</td><td>486</td><td>0</td><td>0</td></tr><tr><th>3</th><td>0</td><td>tcp</td><td>http</td><td>SF</td><td>235</td><td>1337</td><td>0</td><td>0</td></tr><tr><th>4</th><td>0</td><td>tcp</td><td>http</td><td>SF</td><td>219</td><td>1337</td><td>0</td><td>0</td></tr><tr><th>5</th><td>0</td><td>tcp</td><td>http</td><td>SF</td><td>217</td><td>2032</td><td>0</td><td>0</td></tr><tr><th>6</th><td>0</td><td>tcp</td><td>http</td><td>SF</td><td>217</td><td>2032</td><td>0</td><td>0</td></tr><tr><th>7</th><td>0</td><td>tcp</td><td>http</td><td>SF</td><td>212</td><td>1940</td><td>0</td><td>0</td></tr><tr><th>8</th><td>0</td><td>tcp</td><td>http</td><td>SF</td><td>159</td><td>4087</td><td>0</td><td>0</td></tr><tr><th>9</th><td>0</td><td>tcp</td><td>http</td><td>SF</td><td>210</td><td>151</td><td>0</td><td>0</td></tr><tr><th>10</th><td>0</td><td>tcp</td><td>http</td><td>SF</td><td>212</td><td>786</td><td>0</td><td>0</td></tr><tr><th>11</th><td>0</td><td>tcp</td><td>http</td><td>SF</td><td>210</td><td>624</td><td>0</td><td>0</td></tr><tr><th>12</th><td>0</td><td>tcp</td><td>http</td><td>SF</td><td>177</td><td>1985</td><td>0</td><td>0</td></tr><tr><th>13</th><td>0</td><td>tcp</td><td>http</td><td>SF</td><td>222</td><td>773</td><td>0</td><td>0</td></tr><tr><th>14</th><td>0</td><td>tcp</td><td>http</td><td>SF</td><td>256</td><td>1169</td><td>0</td><td>0</td></tr><tr><th>15</th><td>0</td><td>tcp</td><td>http</td><td>SF</td><td>241</td><td>259</td><td>0</td><td>0</td></tr><tr><th>16</th><td>0</td><td>tcp</td><td>http</td><td>SF</td><td>260</td><td>1837</td><td>0</td><td>0</td></tr><tr><th>17</th><td>0</td><td>tcp</td><td>http</td><td>SF</td><td>241</td><td>261</td><td>0</td><td>0</td></tr><tr><th>18</th><td>0</td><td>tcp</td><td>http</td><td>SF</td><td>257</td><td>818</td><td>0</td><td>0</td></tr><tr><th>19</th><td>0</td><td>tcp</td><td>http</td><td>SF</td><td>233</td><td>255</td><td>0</td><td>0</td></tr><tr><th>20</th><td>0</td><td>tcp</td><td>http</td><td>SF</td><td>233</td><td>504</td><td>0</td><td>0</td></tr><tr><th>21</th><td>0</td><td>tcp</td><td>http</td><td>SF</td><td>256</td><td>1273</td><td>0</td><td>0</td></tr><tr><th>22</th><td>0</td><td>tcp</td><td>http</td><td>SF</td><td>234</td><td>255</td><td>0</td><td>0</td></tr><tr><th>23</th><td>0</td><td>tcp</td><td>http</td><td>SF</td><td>241</td><td>259</td><td>0</td><td>0</td></tr><tr><th>24</th><td>0</td><td>tcp</td><td>http</td><td>SF</td><td>239</td><td>968</td><td>0</td><td>0</td></tr><tr><th>25</th><td>0</td><td>tcp</td><td>http</td><td>SF</td><td>245</td><td>1919</td><td>0</td><td>0</td></tr><tr><th>26</th><td>0</td><td>tcp</td><td>http</td><td>SF</td><td>248</td><td>2129</td><td>0</td><td>0</td></tr><tr><th>27</th><td>0</td><td>tcp</td><td>http</td><td>SF</td><td>354</td><td>1752</td><td>0</td><td>0</td></tr><tr><th>28</th><td>0</td><td>tcp</td><td>http</td><td>SF</td><td>193</td><td>3991</td><td>0</td><td>0</td></tr><tr><th>29</th><td>0</td><td>tcp</td><td>http</td><td>SF</td><td>214</td><td>14959</td><td>0</td><td>0</td></tr><tr><th>30</th><td>0</td><td>tcp</td><td>http</td><td>SF</td><td>212</td><td>1309</td><td>0</td><td>0</td></tr><tr><th>&vellip;</th><td>&vellip;</td><td>&vellip;</td><td>&vellip;</td><td>&vellip;</td><td>&vellip;</td><td>&vellip;</td><td>&vellip;</td><td>&vellip;</td></tr></tbody></table>"
      ],
      "text/latex": [
       "\\begin{tabular}{r|ccccccccc}\n",
       "\t& duration & protocol\\_type & service & flag & src\\_bytes & dst\\_bytes & land & wrong\\_fragment & \\\\\n",
       "\t\\hline\n",
       "\t& Int64 & String & String & String & Int64 & Int64 & Int64 & Int64 & \\\\\n",
       "\t\\hline\n",
       "\t1 & 0 & tcp & http & SF & 181 & 5450 & 0 & 0 & $\\dots$ \\\\\n",
       "\t2 & 0 & tcp & http & SF & 239 & 486 & 0 & 0 & $\\dots$ \\\\\n",
       "\t3 & 0 & tcp & http & SF & 235 & 1337 & 0 & 0 & $\\dots$ \\\\\n",
       "\t4 & 0 & tcp & http & SF & 219 & 1337 & 0 & 0 & $\\dots$ \\\\\n",
       "\t5 & 0 & tcp & http & SF & 217 & 2032 & 0 & 0 & $\\dots$ \\\\\n",
       "\t6 & 0 & tcp & http & SF & 217 & 2032 & 0 & 0 & $\\dots$ \\\\\n",
       "\t7 & 0 & tcp & http & SF & 212 & 1940 & 0 & 0 & $\\dots$ \\\\\n",
       "\t8 & 0 & tcp & http & SF & 159 & 4087 & 0 & 0 & $\\dots$ \\\\\n",
       "\t9 & 0 & tcp & http & SF & 210 & 151 & 0 & 0 & $\\dots$ \\\\\n",
       "\t10 & 0 & tcp & http & SF & 212 & 786 & 0 & 0 & $\\dots$ \\\\\n",
       "\t11 & 0 & tcp & http & SF & 210 & 624 & 0 & 0 & $\\dots$ \\\\\n",
       "\t12 & 0 & tcp & http & SF & 177 & 1985 & 0 & 0 & $\\dots$ \\\\\n",
       "\t13 & 0 & tcp & http & SF & 222 & 773 & 0 & 0 & $\\dots$ \\\\\n",
       "\t14 & 0 & tcp & http & SF & 256 & 1169 & 0 & 0 & $\\dots$ \\\\\n",
       "\t15 & 0 & tcp & http & SF & 241 & 259 & 0 & 0 & $\\dots$ \\\\\n",
       "\t16 & 0 & tcp & http & SF & 260 & 1837 & 0 & 0 & $\\dots$ \\\\\n",
       "\t17 & 0 & tcp & http & SF & 241 & 261 & 0 & 0 & $\\dots$ \\\\\n",
       "\t18 & 0 & tcp & http & SF & 257 & 818 & 0 & 0 & $\\dots$ \\\\\n",
       "\t19 & 0 & tcp & http & SF & 233 & 255 & 0 & 0 & $\\dots$ \\\\\n",
       "\t20 & 0 & tcp & http & SF & 233 & 504 & 0 & 0 & $\\dots$ \\\\\n",
       "\t21 & 0 & tcp & http & SF & 256 & 1273 & 0 & 0 & $\\dots$ \\\\\n",
       "\t22 & 0 & tcp & http & SF & 234 & 255 & 0 & 0 & $\\dots$ \\\\\n",
       "\t23 & 0 & tcp & http & SF & 241 & 259 & 0 & 0 & $\\dots$ \\\\\n",
       "\t24 & 0 & tcp & http & SF & 239 & 968 & 0 & 0 & $\\dots$ \\\\\n",
       "\t25 & 0 & tcp & http & SF & 245 & 1919 & 0 & 0 & $\\dots$ \\\\\n",
       "\t26 & 0 & tcp & http & SF & 248 & 2129 & 0 & 0 & $\\dots$ \\\\\n",
       "\t27 & 0 & tcp & http & SF & 354 & 1752 & 0 & 0 & $\\dots$ \\\\\n",
       "\t28 & 0 & tcp & http & SF & 193 & 3991 & 0 & 0 & $\\dots$ \\\\\n",
       "\t29 & 0 & tcp & http & SF & 214 & 14959 & 0 & 0 & $\\dots$ \\\\\n",
       "\t30 & 0 & tcp & http & SF & 212 & 1309 & 0 & 0 & $\\dots$ \\\\\n",
       "\t$\\dots$ & $\\dots$ & $\\dots$ & $\\dots$ & $\\dots$ & $\\dots$ & $\\dots$ & $\\dots$ & $\\dots$ &  \\\\\n",
       "\\end{tabular}\n"
      ],
      "text/plain": [
       "\u001b[1m494021×42 DataFrame\u001b[0m\n",
       "\u001b[1m    Row \u001b[0m│\u001b[1m duration \u001b[0m\u001b[1m protocol_type \u001b[0m\u001b[1m service \u001b[0m\u001b[1m flag   \u001b[0m\u001b[1m src_bytes \u001b[0m\u001b[1m dst_bytes \u001b[0m\u001b[1m land\u001b[0m ⋯\n",
       "\u001b[1m        \u001b[0m│\u001b[90m Int64    \u001b[0m\u001b[90m String        \u001b[0m\u001b[90m String  \u001b[0m\u001b[90m String \u001b[0m\u001b[90m Int64     \u001b[0m\u001b[90m Int64     \u001b[0m\u001b[90m Int6\u001b[0m ⋯\n",
       "────────┼───────────────────────────────────────────────────────────────────────\n",
       "      1 │        0  tcp            http     SF            181       5450       ⋯\n",
       "      2 │        0  tcp            http     SF            239        486\n",
       "      3 │        0  tcp            http     SF            235       1337\n",
       "      4 │        0  tcp            http     SF            219       1337\n",
       "      5 │        0  tcp            http     SF            217       2032       ⋯\n",
       "      6 │        0  tcp            http     SF            217       2032\n",
       "      7 │        0  tcp            http     SF            212       1940\n",
       "      8 │        0  tcp            http     SF            159       4087\n",
       "      9 │        0  tcp            http     SF            210        151       ⋯\n",
       "     10 │        0  tcp            http     SF            212        786\n",
       "     11 │        0  tcp            http     SF            210        624\n",
       "   ⋮    │    ⋮            ⋮           ⋮       ⋮         ⋮          ⋮        ⋮  ⋱\n",
       " 494012 │        0  tcp            http     SF            308        662\n",
       " 494013 │        0  tcp            http     SF            291       1862       ⋯\n",
       " 494014 │        0  tcp            http     SF            289        244\n",
       " 494015 │        0  tcp            http     SF            306        662\n",
       " 494016 │        0  tcp            http     SF            289       1862\n",
       " 494017 │        0  tcp            http     SF            310       1881       ⋯\n",
       " 494018 │        0  tcp            http     SF            282       2286\n",
       " 494019 │        0  tcp            http     SF            203       1200\n",
       " 494020 │        0  tcp            http     SF            291       1200\n",
       " 494021 │        0  tcp            http     SF            219       1234       ⋯\n",
       "\u001b[36m                                              36 columns and 494000 rows omitted\u001b[0m"
      ]
     },
     "execution_count": 81,
     "metadata": {},
     "output_type": "execute_result"
    }
   ],
   "source": [
    "kdd = CSV.File(\"kdd/kddcup.data_10_percent\",\n",
    "    header = [\n",
    "        \"duration\", \"protocol_type\", \"service\", \"flag\", \"src_bytes\", \"dst_bytes\", \"land\", \n",
    "        \"wrong_fragment\", \"urgent\", \"hot\", \"num_failed_logins\", \"logged_in\", \"num_compromised\", \n",
    "        \"root_shell\", \"su_attempted\", \"num_root\", \"num_file_creations\", \"num_shells\", \n",
    "        \"num_access_files\", \"num_outbound_cmds\", \"is_hot_login\",\"is_guest_login\", \"count\",\n",
    "        \"srv_count\", \"serror_rate\", \"srv_serror_rate\", \"rerror_rate\",\"srv_rerror_rate\", \n",
    "        \"same_srv_rate\", \"diff_srv_rate\",\"srv_diff_host_rate\", \"dst_host_count\",\n",
    "        \"dst_host_srv_count\",\"dst_host_same_srv_rate\", \"dst_host_diff_srv_rate\",\"\n",
    "        dst_host_same_src_port_rate\", \"dst_host_srv_diff_host_rate\", \"dst_host_serror_rate\",\n",
    "        \"dst_host_srv_serror_rate\", \"dst_host_rerror_rate\", \"dst_host_srv_rerror_rate\", \"result\"\n",
    "    ]) |> DataFrame"
   ]
  },
  {
   "cell_type": "markdown",
   "metadata": {},
   "source": [
    "Encode Categoritcal Data:"
   ]
  },
  {
   "cell_type": "code",
   "execution_count": 82,
   "metadata": {},
   "outputs": [],
   "source": [
    "le = LabelEncoder();"
   ]
  },
  {
   "cell_type": "code",
   "execution_count": 83,
   "metadata": {},
   "outputs": [
    {
     "data": {
      "text/html": [
       "<table class=\"data-frame\"><thead><tr><th></th><th>duration</th><th>protocol_type</th><th>service</th><th>flag</th><th>src_bytes</th><th>dst_bytes</th><th>land</th><th>wrong_fragment</th></tr><tr><th></th><th>Int64</th><th>Int64</th><th>Int64</th><th>Int64</th><th>Int64</th><th>Int64</th><th>Int64</th><th>Int64</th></tr></thead><tbody><p>494,021 rows × 42 columns (omitted printing of 34 columns)</p><tr><th>1</th><td>0</td><td>1</td><td>22</td><td>9</td><td>181</td><td>5450</td><td>0</td><td>0</td></tr><tr><th>2</th><td>0</td><td>1</td><td>22</td><td>9</td><td>239</td><td>486</td><td>0</td><td>0</td></tr><tr><th>3</th><td>0</td><td>1</td><td>22</td><td>9</td><td>235</td><td>1337</td><td>0</td><td>0</td></tr><tr><th>4</th><td>0</td><td>1</td><td>22</td><td>9</td><td>219</td><td>1337</td><td>0</td><td>0</td></tr><tr><th>5</th><td>0</td><td>1</td><td>22</td><td>9</td><td>217</td><td>2032</td><td>0</td><td>0</td></tr><tr><th>6</th><td>0</td><td>1</td><td>22</td><td>9</td><td>217</td><td>2032</td><td>0</td><td>0</td></tr><tr><th>7</th><td>0</td><td>1</td><td>22</td><td>9</td><td>212</td><td>1940</td><td>0</td><td>0</td></tr><tr><th>8</th><td>0</td><td>1</td><td>22</td><td>9</td><td>159</td><td>4087</td><td>0</td><td>0</td></tr><tr><th>9</th><td>0</td><td>1</td><td>22</td><td>9</td><td>210</td><td>151</td><td>0</td><td>0</td></tr><tr><th>10</th><td>0</td><td>1</td><td>22</td><td>9</td><td>212</td><td>786</td><td>0</td><td>0</td></tr><tr><th>11</th><td>0</td><td>1</td><td>22</td><td>9</td><td>210</td><td>624</td><td>0</td><td>0</td></tr><tr><th>12</th><td>0</td><td>1</td><td>22</td><td>9</td><td>177</td><td>1985</td><td>0</td><td>0</td></tr><tr><th>13</th><td>0</td><td>1</td><td>22</td><td>9</td><td>222</td><td>773</td><td>0</td><td>0</td></tr><tr><th>14</th><td>0</td><td>1</td><td>22</td><td>9</td><td>256</td><td>1169</td><td>0</td><td>0</td></tr><tr><th>15</th><td>0</td><td>1</td><td>22</td><td>9</td><td>241</td><td>259</td><td>0</td><td>0</td></tr><tr><th>16</th><td>0</td><td>1</td><td>22</td><td>9</td><td>260</td><td>1837</td><td>0</td><td>0</td></tr><tr><th>17</th><td>0</td><td>1</td><td>22</td><td>9</td><td>241</td><td>261</td><td>0</td><td>0</td></tr><tr><th>18</th><td>0</td><td>1</td><td>22</td><td>9</td><td>257</td><td>818</td><td>0</td><td>0</td></tr><tr><th>19</th><td>0</td><td>1</td><td>22</td><td>9</td><td>233</td><td>255</td><td>0</td><td>0</td></tr><tr><th>20</th><td>0</td><td>1</td><td>22</td><td>9</td><td>233</td><td>504</td><td>0</td><td>0</td></tr><tr><th>21</th><td>0</td><td>1</td><td>22</td><td>9</td><td>256</td><td>1273</td><td>0</td><td>0</td></tr><tr><th>22</th><td>0</td><td>1</td><td>22</td><td>9</td><td>234</td><td>255</td><td>0</td><td>0</td></tr><tr><th>23</th><td>0</td><td>1</td><td>22</td><td>9</td><td>241</td><td>259</td><td>0</td><td>0</td></tr><tr><th>24</th><td>0</td><td>1</td><td>22</td><td>9</td><td>239</td><td>968</td><td>0</td><td>0</td></tr><tr><th>25</th><td>0</td><td>1</td><td>22</td><td>9</td><td>245</td><td>1919</td><td>0</td><td>0</td></tr><tr><th>26</th><td>0</td><td>1</td><td>22</td><td>9</td><td>248</td><td>2129</td><td>0</td><td>0</td></tr><tr><th>27</th><td>0</td><td>1</td><td>22</td><td>9</td><td>354</td><td>1752</td><td>0</td><td>0</td></tr><tr><th>28</th><td>0</td><td>1</td><td>22</td><td>9</td><td>193</td><td>3991</td><td>0</td><td>0</td></tr><tr><th>29</th><td>0</td><td>1</td><td>22</td><td>9</td><td>214</td><td>14959</td><td>0</td><td>0</td></tr><tr><th>30</th><td>0</td><td>1</td><td>22</td><td>9</td><td>212</td><td>1309</td><td>0</td><td>0</td></tr><tr><th>&vellip;</th><td>&vellip;</td><td>&vellip;</td><td>&vellip;</td><td>&vellip;</td><td>&vellip;</td><td>&vellip;</td><td>&vellip;</td><td>&vellip;</td></tr></tbody></table>"
      ],
      "text/latex": [
       "\\begin{tabular}{r|ccccccccc}\n",
       "\t& duration & protocol\\_type & service & flag & src\\_bytes & dst\\_bytes & land & wrong\\_fragment & \\\\\n",
       "\t\\hline\n",
       "\t& Int64 & Int64 & Int64 & Int64 & Int64 & Int64 & Int64 & Int64 & \\\\\n",
       "\t\\hline\n",
       "\t1 & 0 & 1 & 22 & 9 & 181 & 5450 & 0 & 0 & $\\dots$ \\\\\n",
       "\t2 & 0 & 1 & 22 & 9 & 239 & 486 & 0 & 0 & $\\dots$ \\\\\n",
       "\t3 & 0 & 1 & 22 & 9 & 235 & 1337 & 0 & 0 & $\\dots$ \\\\\n",
       "\t4 & 0 & 1 & 22 & 9 & 219 & 1337 & 0 & 0 & $\\dots$ \\\\\n",
       "\t5 & 0 & 1 & 22 & 9 & 217 & 2032 & 0 & 0 & $\\dots$ \\\\\n",
       "\t6 & 0 & 1 & 22 & 9 & 217 & 2032 & 0 & 0 & $\\dots$ \\\\\n",
       "\t7 & 0 & 1 & 22 & 9 & 212 & 1940 & 0 & 0 & $\\dots$ \\\\\n",
       "\t8 & 0 & 1 & 22 & 9 & 159 & 4087 & 0 & 0 & $\\dots$ \\\\\n",
       "\t9 & 0 & 1 & 22 & 9 & 210 & 151 & 0 & 0 & $\\dots$ \\\\\n",
       "\t10 & 0 & 1 & 22 & 9 & 212 & 786 & 0 & 0 & $\\dots$ \\\\\n",
       "\t11 & 0 & 1 & 22 & 9 & 210 & 624 & 0 & 0 & $\\dots$ \\\\\n",
       "\t12 & 0 & 1 & 22 & 9 & 177 & 1985 & 0 & 0 & $\\dots$ \\\\\n",
       "\t13 & 0 & 1 & 22 & 9 & 222 & 773 & 0 & 0 & $\\dots$ \\\\\n",
       "\t14 & 0 & 1 & 22 & 9 & 256 & 1169 & 0 & 0 & $\\dots$ \\\\\n",
       "\t15 & 0 & 1 & 22 & 9 & 241 & 259 & 0 & 0 & $\\dots$ \\\\\n",
       "\t16 & 0 & 1 & 22 & 9 & 260 & 1837 & 0 & 0 & $\\dots$ \\\\\n",
       "\t17 & 0 & 1 & 22 & 9 & 241 & 261 & 0 & 0 & $\\dots$ \\\\\n",
       "\t18 & 0 & 1 & 22 & 9 & 257 & 818 & 0 & 0 & $\\dots$ \\\\\n",
       "\t19 & 0 & 1 & 22 & 9 & 233 & 255 & 0 & 0 & $\\dots$ \\\\\n",
       "\t20 & 0 & 1 & 22 & 9 & 233 & 504 & 0 & 0 & $\\dots$ \\\\\n",
       "\t21 & 0 & 1 & 22 & 9 & 256 & 1273 & 0 & 0 & $\\dots$ \\\\\n",
       "\t22 & 0 & 1 & 22 & 9 & 234 & 255 & 0 & 0 & $\\dots$ \\\\\n",
       "\t23 & 0 & 1 & 22 & 9 & 241 & 259 & 0 & 0 & $\\dots$ \\\\\n",
       "\t24 & 0 & 1 & 22 & 9 & 239 & 968 & 0 & 0 & $\\dots$ \\\\\n",
       "\t25 & 0 & 1 & 22 & 9 & 245 & 1919 & 0 & 0 & $\\dots$ \\\\\n",
       "\t26 & 0 & 1 & 22 & 9 & 248 & 2129 & 0 & 0 & $\\dots$ \\\\\n",
       "\t27 & 0 & 1 & 22 & 9 & 354 & 1752 & 0 & 0 & $\\dots$ \\\\\n",
       "\t28 & 0 & 1 & 22 & 9 & 193 & 3991 & 0 & 0 & $\\dots$ \\\\\n",
       "\t29 & 0 & 1 & 22 & 9 & 214 & 14959 & 0 & 0 & $\\dots$ \\\\\n",
       "\t30 & 0 & 1 & 22 & 9 & 212 & 1309 & 0 & 0 & $\\dots$ \\\\\n",
       "\t$\\dots$ & $\\dots$ & $\\dots$ & $\\dots$ & $\\dots$ & $\\dots$ & $\\dots$ & $\\dots$ & $\\dots$ &  \\\\\n",
       "\\end{tabular}\n"
      ],
      "text/plain": [
       "\u001b[1m494021×42 DataFrame\u001b[0m\n",
       "\u001b[1m    Row \u001b[0m│\u001b[1m duration \u001b[0m\u001b[1m protocol_type \u001b[0m\u001b[1m service \u001b[0m\u001b[1m flag  \u001b[0m\u001b[1m src_bytes \u001b[0m\u001b[1m dst_bytes \u001b[0m\u001b[1m land \u001b[0m ⋯\n",
       "\u001b[1m        \u001b[0m│\u001b[90m Int64    \u001b[0m\u001b[90m Int64         \u001b[0m\u001b[90m Int64   \u001b[0m\u001b[90m Int64 \u001b[0m\u001b[90m Int64     \u001b[0m\u001b[90m Int64     \u001b[0m\u001b[90m Int64\u001b[0m ⋯\n",
       "────────┼───────────────────────────────────────────────────────────────────────\n",
       "      1 │        0              1       22      9        181       5450      0 ⋯\n",
       "      2 │        0              1       22      9        239        486      0\n",
       "      3 │        0              1       22      9        235       1337      0\n",
       "      4 │        0              1       22      9        219       1337      0\n",
       "      5 │        0              1       22      9        217       2032      0 ⋯\n",
       "      6 │        0              1       22      9        217       2032      0\n",
       "      7 │        0              1       22      9        212       1940      0\n",
       "      8 │        0              1       22      9        159       4087      0\n",
       "      9 │        0              1       22      9        210        151      0 ⋯\n",
       "     10 │        0              1       22      9        212        786      0\n",
       "     11 │        0              1       22      9        210        624      0\n",
       "   ⋮    │    ⋮            ⋮           ⋮       ⋮        ⋮          ⋮        ⋮   ⋱\n",
       " 494012 │        0              1       22      9        308        662      0\n",
       " 494013 │        0              1       22      9        291       1862      0 ⋯\n",
       " 494014 │        0              1       22      9        289        244      0\n",
       " 494015 │        0              1       22      9        306        662      0\n",
       " 494016 │        0              1       22      9        289       1862      0\n",
       " 494017 │        0              1       22      9        310       1881      0 ⋯\n",
       " 494018 │        0              1       22      9        282       2286      0\n",
       " 494019 │        0              1       22      9        203       1200      0\n",
       " 494020 │        0              1       22      9        291       1200      0\n",
       " 494021 │        0              1       22      9        219       1234      0 ⋯\n",
       "\u001b[36m                                              35 columns and 494000 rows omitted\u001b[0m"
      ]
     },
     "execution_count": 83,
     "metadata": {},
     "output_type": "execute_result"
    }
   ],
   "source": [
    "for col = [2, 3, 4, 42]\n",
    "    kdd[!, col] = fit_transform!(le, kdd[!, col]);\n",
    "end\n",
    "kdd"
   ]
  },
  {
   "cell_type": "markdown",
   "metadata": {},
   "source": [
    "Split independent and dependent variables:"
   ]
  },
  {
   "cell_type": "code",
   "execution_count": 84,
   "metadata": {},
   "outputs": [
    {
     "data": {
      "text/plain": [
       "494021×41 Array{Float32,2}:\n",
       " 0.0  1.0  22.0  9.0  181.0  5450.0  0.0  …  0.11  0.0   0.0   0.0   0.0  0.0\n",
       " 0.0  1.0  22.0  9.0  239.0   486.0  0.0     0.05  0.0   0.0   0.0   0.0  0.0\n",
       " 0.0  1.0  22.0  9.0  235.0  1337.0  0.0     0.03  0.0   0.0   0.0   0.0  0.0\n",
       " 0.0  1.0  22.0  9.0  219.0  1337.0  0.0     0.03  0.0   0.0   0.0   0.0  0.0\n",
       " 0.0  1.0  22.0  9.0  217.0  2032.0  0.0     0.02  0.0   0.0   0.0   0.0  0.0\n",
       " 0.0  1.0  22.0  9.0  217.0  2032.0  0.0  …  0.02  0.0   0.0   0.0   0.0  0.0\n",
       " 0.0  1.0  22.0  9.0  212.0  1940.0  0.0     1.0   0.04  0.0   0.0   0.0  0.0\n",
       " 0.0  1.0  22.0  9.0  159.0  4087.0  0.0     0.09  0.04  0.0   0.0   0.0  0.0\n",
       " 0.0  1.0  22.0  9.0  210.0   151.0  0.0     0.12  0.04  0.0   0.0   0.0  0.0\n",
       " 0.0  1.0  22.0  9.0  212.0   786.0  0.0     0.12  0.05  0.0   0.0   0.0  0.0\n",
       " 0.0  1.0  22.0  9.0  210.0   624.0  0.0  …  0.06  0.05  0.0   0.0   0.0  0.0\n",
       " 0.0  1.0  22.0  9.0  177.0  1985.0  0.0     0.04  0.04  0.0   0.0   0.0  0.0\n",
       " 0.0  1.0  22.0  9.0  222.0   773.0  0.0     0.03  0.04  0.0   0.0   0.0  0.0\n",
       " ⋮                              ⋮         ⋱  ⋮                            ⋮\n",
       " 0.0  1.0  22.0  9.0  335.0  3435.0  0.0     0.06  0.07  0.0   0.01  0.0  0.0\n",
       " 0.0  1.0  22.0  9.0  291.0   236.0  0.0  …  0.04  0.06  0.0   0.01  0.0  0.0\n",
       " 0.0  1.0  22.0  9.0  308.0   662.0  0.0     0.03  0.06  0.0   0.01  0.0  0.0\n",
       " 0.0  1.0  22.0  9.0  291.0  1862.0  0.0     0.02  0.05  0.0   0.01  0.0  0.0\n",
       " 0.0  1.0  22.0  9.0  289.0   244.0  0.0     0.02  0.05  0.0   0.01  0.0  0.0\n",
       " 0.0  1.0  22.0  9.0  306.0   662.0  0.0     0.02  0.05  0.0   0.01  0.0  0.0\n",
       " 0.0  1.0  22.0  9.0  289.0  1862.0  0.0  …  0.01  0.05  0.0   0.01  0.0  0.0\n",
       " 0.0  1.0  22.0  9.0  310.0  1881.0  0.0     0.01  0.05  0.0   0.01  0.0  0.0\n",
       " 0.0  1.0  22.0  9.0  282.0  2286.0  0.0     0.17  0.05  0.0   0.01  0.0  0.0\n",
       " 0.0  1.0  22.0  9.0  203.0  1200.0  0.0     0.06  0.05  0.06  0.01  0.0  0.0\n",
       " 0.0  1.0  22.0  9.0  291.0  1200.0  0.0     0.04  0.05  0.04  0.01  0.0  0.0\n",
       " 0.0  1.0  22.0  9.0  219.0  1234.0  0.0  …  0.17  0.05  0.0   0.01  0.0  0.0"
      ]
     },
     "execution_count": 84,
     "metadata": {},
     "output_type": "execute_result"
    }
   ],
   "source": [
    "kdd_x = convert(Array{Float32,2}, kdd[:, 1:41])"
   ]
  },
  {
   "cell_type": "code",
   "execution_count": 85,
   "metadata": {},
   "outputs": [
    {
     "data": {
      "text/plain": [
       "494021-element Array{Int8,1}:\n",
       " 11\n",
       " 11\n",
       " 11\n",
       " 11\n",
       " 11\n",
       " 11\n",
       " 11\n",
       " 11\n",
       " 11\n",
       " 11\n",
       " 11\n",
       " 11\n",
       " 11\n",
       "  ⋮\n",
       " 11\n",
       " 11\n",
       " 11\n",
       " 11\n",
       " 11\n",
       " 11\n",
       " 11\n",
       " 11\n",
       " 11\n",
       " 11\n",
       " 11\n",
       " 11"
      ]
     },
     "execution_count": 85,
     "metadata": {},
     "output_type": "execute_result"
    }
   ],
   "source": [
    "kdd_y = convert(Array{Int8,1}, kdd[:, 42])"
   ]
  },
  {
   "cell_type": "markdown",
   "metadata": {},
   "source": [
    "Split into test and train:"
   ]
  },
  {
   "cell_type": "code",
   "execution_count": 86,
   "metadata": {},
   "outputs": [],
   "source": [
    "X_train, X_test, y_train, y_test = train_test_split(kdd_x, kdd_y, test_size=0.30);"
   ]
  },
  {
   "cell_type": "markdown",
   "metadata": {},
   "source": [
    "## Naive Bayes"
   ]
  },
  {
   "cell_type": "markdown",
   "metadata": {},
   "source": [
    "No hyperparamters were tuned here."
   ]
  },
  {
   "cell_type": "code",
   "execution_count": 87,
   "metadata": {},
   "outputs": [],
   "source": [
    "kdd_nb_model = GaussianNB();"
   ]
  },
  {
   "cell_type": "code",
   "execution_count": 88,
   "metadata": {},
   "outputs": [
    {
     "name": "stdout",
     "output_type": "stream",
     "text": [
      "  0.286442 seconds (29.50 k allocations: 1.567 MiB)\n"
     ]
    }
   ],
   "source": [
    "@time kdd_nb_model.fit(X_train, y_train);"
   ]
  },
  {
   "cell_type": "code",
   "execution_count": 89,
   "metadata": {},
   "outputs": [
    {
     "name": "stdout",
     "output_type": "stream",
     "text": [
      "  1.293266 seconds (25.03 k allocations: 1.483 MiB)\n"
     ]
    },
    {
     "data": {
      "text/plain": [
       "148207-element Array{Int8,1}:\n",
       " 11\n",
       " 18\n",
       " 18\n",
       " 18\n",
       " 11\n",
       " 11\n",
       " 18\n",
       " 18\n",
       " 18\n",
       " 18\n",
       " 18\n",
       " 18\n",
       "  9\n",
       "  ⋮\n",
       " 10\n",
       "  9\n",
       "  9\n",
       " 18\n",
       " 18\n",
       "  9\n",
       "  9\n",
       " 11\n",
       " 11\n",
       " 18\n",
       " 11\n",
       " 18"
      ]
     },
     "execution_count": 89,
     "metadata": {},
     "output_type": "execute_result"
    }
   ],
   "source": [
    "@time predictions = kdd_nb_model.predict(X_test)"
   ]
  },
  {
   "cell_type": "code",
   "execution_count": 90,
   "metadata": {},
   "outputs": [
    {
     "data": {
      "text/plain": [
       "0.9380393638627056"
      ]
     },
     "execution_count": 90,
     "metadata": {},
     "output_type": "execute_result"
    }
   ],
   "source": [
    "accuracy = accuracy_score(predictions, y_test)"
   ]
  },
  {
   "cell_type": "code",
   "execution_count": 91,
   "metadata": {},
   "outputs": [
    {
     "name": "stdout",
     "output_type": "stream",
     "text": [
      "16019 bytes\n"
     ]
    }
   ],
   "source": [
    "println(\"$(sizeof(Pickle.dumps(kdd_nb_model))) bytes\")"
   ]
  },
  {
   "cell_type": "markdown",
   "metadata": {},
   "source": [
    "## Classification Tree"
   ]
  },
  {
   "cell_type": "markdown",
   "metadata": {},
   "source": [
    "No hyperparameters were tuned here."
   ]
  },
  {
   "cell_type": "code",
   "execution_count": 92,
   "metadata": {},
   "outputs": [],
   "source": [
    "kdd_tree_model = DecisionTreeClassifier();"
   ]
  },
  {
   "cell_type": "code",
   "execution_count": 93,
   "metadata": {},
   "outputs": [
    {
     "name": "stdout",
     "output_type": "stream",
     "text": [
      "  2.044986 seconds (17 allocations: 976 bytes)\n"
     ]
    }
   ],
   "source": [
    "@time kdd_tree_model.fit(X_train, y_train);"
   ]
  },
  {
   "cell_type": "code",
   "execution_count": 94,
   "metadata": {},
   "outputs": [
    {
     "name": "stdout",
     "output_type": "stream",
     "text": [
      "  0.025362 seconds (56 allocations: 147.672 KiB)\n"
     ]
    },
    {
     "data": {
      "text/plain": [
       "148207-element Array{Int8,1}:\n",
       " 11\n",
       " 18\n",
       " 18\n",
       " 18\n",
       " 11\n",
       " 11\n",
       " 18\n",
       " 18\n",
       " 18\n",
       " 18\n",
       " 18\n",
       " 18\n",
       "  9\n",
       "  ⋮\n",
       " 11\n",
       "  9\n",
       "  9\n",
       " 18\n",
       " 18\n",
       "  9\n",
       "  9\n",
       " 11\n",
       " 11\n",
       " 18\n",
       " 11\n",
       " 18"
      ]
     },
     "execution_count": 94,
     "metadata": {},
     "output_type": "execute_result"
    }
   ],
   "source": [
    "@time predictions = kdd_tree_model.predict(X_test)"
   ]
  },
  {
   "cell_type": "code",
   "execution_count": 95,
   "metadata": {},
   "outputs": [
    {
     "data": {
      "text/plain": [
       "0.9995749188634815"
      ]
     },
     "execution_count": 95,
     "metadata": {},
     "output_type": "execute_result"
    }
   ],
   "source": [
    "accuracy = accuracy_score(predictions, y_test)"
   ]
  },
  {
   "cell_type": "code",
   "execution_count": 96,
   "metadata": {},
   "outputs": [
    {
     "name": "stdout",
     "output_type": "stream",
     "text": [
      "121394 bytes\n"
     ]
    }
   ],
   "source": [
    "println(\"$(sizeof(Pickle.dumps(kdd_tree_model))) bytes\")"
   ]
  },
  {
   "cell_type": "markdown",
   "metadata": {},
   "source": [
    "## Preprocessing for SVM and NN methods"
   ]
  },
  {
   "cell_type": "markdown",
   "metadata": {},
   "source": [
    "SVM and NN used 30% of already partitioned and split testing and training data."
   ]
  },
  {
   "cell_type": "code",
   "execution_count": 97,
   "metadata": {},
   "outputs": [
    {
     "data": {
      "text/plain": [
       "44462"
      ]
     },
     "execution_count": 97,
     "metadata": {},
     "output_type": "execute_result"
    }
   ],
   "source": [
    "test_rows_cut = convert(Int, floor(length(y_test) * .30)) # use 30% of data"
   ]
  },
  {
   "cell_type": "code",
   "execution_count": 98,
   "metadata": {},
   "outputs": [
    {
     "data": {
      "text/plain": [
       "44462×41 Array{Float32,2}:\n",
       "    0.0  1.0  22.0  9.0   312.0   1176.0  …  0.04  0.04  0.0  0.0  0.0   0.0\n",
       "    0.0  0.0  14.0  9.0  1032.0      0.0     1.0   0.0   0.0  0.0  0.0   0.0\n",
       "    0.0  0.0  14.0  9.0  1032.0      0.0     1.0   0.0   0.0  0.0  0.0   0.0\n",
       "    0.0  0.0  14.0  9.0  1032.0      0.0     1.0   0.0   0.0  0.0  0.0   0.0\n",
       "    0.0  1.0  22.0  9.0   159.0   3752.0     0.0   0.01  0.0  0.0  0.04  0.04\n",
       "   64.0  1.0  56.0  9.0   166.0  15661.0  …  0.01  0.0   0.0  0.0  0.0   0.0\n",
       "    0.0  0.0  14.0  9.0  1032.0      0.0     1.0   0.0   0.0  0.0  0.0   0.0\n",
       "    0.0  0.0  14.0  9.0  1032.0      0.0     1.0   0.0   0.0  0.0  0.0   0.0\n",
       "    0.0  0.0  14.0  9.0  1032.0      0.0     1.0   0.0   0.0  0.0  0.0   0.0\n",
       "    0.0  0.0  14.0  9.0  1032.0      0.0     1.0   0.0   0.0  0.0  0.0   0.0\n",
       "    0.0  0.0  14.0  9.0  1032.0      0.0  …  1.0   0.0   0.0  0.0  0.0   0.0\n",
       "    0.0  0.0  14.0  9.0  1032.0      0.0     1.0   0.0   0.0  0.0  0.0   0.0\n",
       "    0.0  1.0  45.0  1.0     0.0      0.0     0.0   0.0   0.0  0.0  1.0   1.0\n",
       "    ⋮                                ⋮    ⋱  ⋮                           ⋮\n",
       "    0.0  0.0  14.0  9.0  1032.0      0.0  …  1.0   0.0   0.0  0.0  0.0   0.0\n",
       "    0.0  2.0  45.0  9.0   105.0    146.0     0.0   0.0   0.0  0.0  0.0   0.0\n",
       "    0.0  0.0  14.0  9.0  1032.0      0.0     1.0   0.0   0.0  0.0  0.0   0.0\n",
       "    0.0  1.0  45.0  5.0     0.0      0.0     0.0   0.0   1.0  1.0  0.0   0.0\n",
       "    0.0  0.0  14.0  9.0  1032.0      0.0     1.0   0.0   0.0  0.0  0.0   0.0\n",
       "    0.0  1.0  45.0  5.0     0.0      0.0  …  0.0   0.0   1.0  1.0  0.0   0.0\n",
       "    0.0  1.0  22.0  9.0   337.0    286.0     0.0   0.0   0.0  0.0  0.0   0.0\n",
       "    0.0  1.0  45.0  5.0     0.0      0.0     0.0   0.0   1.0  1.0  0.0   0.0\n",
       "    0.0  0.0  14.0  9.0  1032.0      0.0     1.0   0.0   0.0  0.0  0.0   0.0\n",
       "    0.0  0.0  14.0  9.0  1032.0      0.0     1.0   0.0   0.0  0.0  0.0   0.0\n",
       " 5082.0  2.0  40.0  9.0   146.0    105.0  …  0.97  0.0   0.0  0.0  0.0   0.0\n",
       "    0.0  1.0  22.0  9.0   306.0   1380.0     0.0   0.0   0.0  0.0  0.0   0.0"
      ]
     },
     "execution_count": 98,
     "metadata": {},
     "output_type": "execute_result"
    }
   ],
   "source": [
    "X_test = X_test[1:test_rows_cut, :]"
   ]
  },
  {
   "cell_type": "code",
   "execution_count": 99,
   "metadata": {},
   "outputs": [
    {
     "data": {
      "text/plain": [
       "44462-element Array{Int8,1}:\n",
       " 11\n",
       " 18\n",
       " 18\n",
       " 18\n",
       " 11\n",
       " 11\n",
       " 18\n",
       " 18\n",
       " 18\n",
       " 18\n",
       " 18\n",
       " 18\n",
       "  9\n",
       "  ⋮\n",
       " 18\n",
       " 11\n",
       " 18\n",
       "  9\n",
       " 18\n",
       "  9\n",
       " 11\n",
       "  9\n",
       " 18\n",
       " 18\n",
       " 11\n",
       " 11"
      ]
     },
     "execution_count": 99,
     "metadata": {},
     "output_type": "execute_result"
    }
   ],
   "source": [
    "y_test = y_test[1:test_rows_cut]"
   ]
  },
  {
   "cell_type": "code",
   "execution_count": 100,
   "metadata": {},
   "outputs": [
    {
     "data": {
      "text/plain": [
       "103744"
      ]
     },
     "execution_count": 100,
     "metadata": {},
     "output_type": "execute_result"
    }
   ],
   "source": [
    "train_rows_cut = convert(Int, floor(length(y_train) * .30)) # use 30% of data"
   ]
  },
  {
   "cell_type": "code",
   "execution_count": 101,
   "metadata": {},
   "outputs": [
    {
     "data": {
      "text/plain": [
       "103744×41 Array{Float32,2}:\n",
       "    0.0  0.0  14.0  9.0  1032.0     0.0  …  1.0   0.0   0.0  0.0  0.0  0.0\n",
       "    0.0  1.0  45.0  5.0     0.0     0.0     0.0   0.0   1.0  1.0  0.0  0.0\n",
       "    0.0  0.0  14.0  9.0  1032.0     0.0     1.0   0.0   0.0  0.0  0.0  0.0\n",
       "    0.0  0.0  14.0  9.0  1032.0     0.0     1.0   0.0   0.0  0.0  0.0  0.0\n",
       "    0.0  1.0  22.0  9.0   210.0  1856.0     0.0   0.0   0.0  0.0  0.0  0.0\n",
       "    0.0  1.0  45.0  5.0     0.0     0.0  …  0.0   0.0   1.0  1.0  0.0  0.0\n",
       "    0.0  1.0  45.0  5.0     0.0     0.0     0.0   0.0   1.0  1.0  0.0  0.0\n",
       "    0.0  0.0  14.0  9.0  1032.0     0.0     1.0   0.0   0.0  0.0  0.0  0.0\n",
       "    0.0  0.0  14.0  9.0  1032.0     0.0     1.0   0.0   0.0  0.0  0.0  0.0\n",
       "    0.0  1.0  19.0  9.0  3676.0     0.0     0.5   0.0   0.0  0.0  0.0  0.0\n",
       "    0.0  1.0  22.0  9.0   303.0  1263.0  …  0.0   0.0   0.0  0.0  0.0  0.0\n",
       "    0.0  0.0  14.0  9.0  1032.0     0.0     1.0   0.0   0.0  0.0  0.0  0.0\n",
       "    0.0  0.0  14.0  9.0  1032.0     0.0     1.0   0.0   0.0  0.0  0.0  0.0\n",
       "    ⋮                               ⋮    ⋱  ⋮                          ⋮\n",
       "    0.0  0.0  14.0  9.0  1032.0     0.0     1.0   0.0   0.0  0.0  0.0  0.0\n",
       "    0.0  0.0  14.0  9.0  1032.0     0.0     1.0   0.0   0.0  0.0  0.0  0.0\n",
       "    0.0  0.0  14.0  9.0  1032.0     0.0     1.0   0.0   0.0  0.0  0.0  0.0\n",
       "    0.0  0.0  14.0  9.0  1032.0     0.0  …  1.0   0.0   0.0  0.0  0.0  0.0\n",
       "    0.0  0.0  14.0  9.0  1032.0     0.0     1.0   0.0   0.0  0.0  0.0  0.0\n",
       "    0.0  1.0  45.0  5.0     0.0     0.0     0.0   0.0   1.0  1.0  0.0  0.0\n",
       " 2019.0  2.0  40.0  9.0   146.0   105.0     0.99  0.0   0.0  0.0  0.0  0.0\n",
       "    0.0  1.0  45.0  1.0     0.0     0.0     0.0   0.0   0.0  0.0  1.0  1.0\n",
       "    0.0  1.0  22.0  9.0   306.0  1030.0  …  0.04  0.04  0.0  0.0  0.0  0.0\n",
       "    0.0  0.0  14.0  9.0  1032.0     0.0     1.0   0.0   0.0  0.0  0.0  0.0\n",
       "    0.0  0.0  14.0  9.0  1032.0     0.0     1.0   0.0   0.0  0.0  0.0  0.0\n",
       "    0.0  1.0  22.0  9.0   187.0  7280.0     0.0   0.0   0.0  0.0  0.0  0.0"
      ]
     },
     "execution_count": 101,
     "metadata": {},
     "output_type": "execute_result"
    }
   ],
   "source": [
    "X_train = X_train[1:train_rows_cut, :]"
   ]
  },
  {
   "cell_type": "code",
   "execution_count": 102,
   "metadata": {},
   "outputs": [
    {
     "data": {
      "text/plain": [
       "103744×1 Array{Int8,2}:\n",
       " 18\n",
       "  9\n",
       " 18\n",
       " 18\n",
       " 11\n",
       "  9\n",
       "  9\n",
       " 18\n",
       " 18\n",
       " 11\n",
       " 11\n",
       " 18\n",
       " 18\n",
       "  ⋮\n",
       " 18\n",
       " 18\n",
       " 18\n",
       " 18\n",
       " 18\n",
       "  9\n",
       " 11\n",
       "  9\n",
       " 11\n",
       " 18\n",
       " 18\n",
       " 11"
      ]
     },
     "execution_count": 102,
     "metadata": {},
     "output_type": "execute_result"
    }
   ],
   "source": [
    "y_train = y_train[1:train_rows_cut, :]"
   ]
  },
  {
   "cell_type": "markdown",
   "metadata": {},
   "source": [
    "## Support Vector Machine"
   ]
  },
  {
   "cell_type": "markdown",
   "metadata": {},
   "source": [
    "A linear support vector machine was used for better training times. "
   ]
  },
  {
   "cell_type": "code",
   "execution_count": 103,
   "metadata": {},
   "outputs": [],
   "source": [
    "kdd_svm_model = LinearSVC();"
   ]
  },
  {
   "cell_type": "code",
   "execution_count": 104,
   "metadata": {},
   "outputs": [
    {
     "name": "stdout",
     "output_type": "stream",
     "text": [
      " 94.767732 seconds (25.12 k allocations: 1.347 MiB)\n"
     ]
    }
   ],
   "source": [
    "@time kdd_svm_model.fit(X_train, y_train);"
   ]
  },
  {
   "cell_type": "code",
   "execution_count": 105,
   "metadata": {},
   "outputs": [
    {
     "name": "stdout",
     "output_type": "stream",
     "text": [
      "  0.035781 seconds (56 allocations: 46.359 KiB)\n"
     ]
    },
    {
     "data": {
      "text/plain": [
       "44462-element Array{Int8,1}:\n",
       " 11\n",
       " 18\n",
       " 18\n",
       " 18\n",
       " 11\n",
       " 11\n",
       " 18\n",
       " 18\n",
       " 18\n",
       " 18\n",
       " 18\n",
       " 18\n",
       "  9\n",
       "  ⋮\n",
       " 18\n",
       " 11\n",
       " 18\n",
       "  9\n",
       " 18\n",
       "  9\n",
       " 11\n",
       "  9\n",
       " 18\n",
       " 18\n",
       " 11\n",
       " 11"
      ]
     },
     "execution_count": 105,
     "metadata": {},
     "output_type": "execute_result"
    }
   ],
   "source": [
    "@time predictions = kdd_svm_model.predict(X_test)"
   ]
  },
  {
   "cell_type": "code",
   "execution_count": 106,
   "metadata": {},
   "outputs": [
    {
     "data": {
      "text/plain": [
       "0.9852458278979803"
      ]
     },
     "execution_count": 106,
     "metadata": {},
     "output_type": "execute_result"
    }
   ],
   "source": [
    "accuracy = accuracy_score(predictions, y_test)"
   ]
  },
  {
   "cell_type": "code",
   "execution_count": 107,
   "metadata": {},
   "outputs": [
    {
     "name": "stdout",
     "output_type": "stream",
     "text": [
      "8047 bytes\n"
     ]
    }
   ],
   "source": [
    "println(\"$(sizeof(Pickle.dumps(kdd_svm_model))) bytes\")"
   ]
  },
  {
   "cell_type": "markdown",
   "metadata": {},
   "source": [
    "## Neural Network"
   ]
  },
  {
   "cell_type": "markdown",
   "metadata": {},
   "source": [
    "No hyperparamters were tuned here."
   ]
  },
  {
   "cell_type": "code",
   "execution_count": 108,
   "metadata": {},
   "outputs": [],
   "source": [
    "kdd_nn_model = MLPClassifier();"
   ]
  },
  {
   "cell_type": "code",
   "execution_count": 109,
   "metadata": {},
   "outputs": [
    {
     "name": "stdout",
     "output_type": "stream",
     "text": [
      " 27.826168 seconds (17 allocations: 976 bytes)\n"
     ]
    }
   ],
   "source": [
    "@time kdd_nn_model.fit(X_train, y_train);"
   ]
  },
  {
   "cell_type": "code",
   "execution_count": 110,
   "metadata": {},
   "outputs": [
    {
     "name": "stdout",
     "output_type": "stream",
     "text": [
      "  0.068699 seconds (56 allocations: 46.359 KiB)\n"
     ]
    },
    {
     "data": {
      "text/plain": [
       "44462-element Array{Int8,1}:\n",
       " 11\n",
       " 18\n",
       " 18\n",
       " 18\n",
       " 11\n",
       " 11\n",
       " 18\n",
       " 18\n",
       " 18\n",
       " 18\n",
       " 18\n",
       " 18\n",
       "  9\n",
       "  ⋮\n",
       " 18\n",
       " 11\n",
       " 18\n",
       "  9\n",
       " 18\n",
       "  9\n",
       " 11\n",
       "  9\n",
       " 18\n",
       " 18\n",
       " 11\n",
       " 11"
      ]
     },
     "execution_count": 110,
     "metadata": {},
     "output_type": "execute_result"
    }
   ],
   "source": [
    "@time predictions = kdd_nn_model.predict(X_test)"
   ]
  },
  {
   "cell_type": "code",
   "execution_count": 111,
   "metadata": {},
   "outputs": [
    {
     "data": {
      "text/plain": [
       "0.9972111016148621"
      ]
     },
     "execution_count": 111,
     "metadata": {},
     "output_type": "execute_result"
    }
   ],
   "source": [
    "accuracy = accuracy_score(predictions, y_test)"
   ]
  },
  {
   "cell_type": "code",
   "execution_count": 112,
   "metadata": {},
   "outputs": [
    {
     "name": "stdout",
     "output_type": "stream",
     "text": [
      "82337 bytes\n"
     ]
    }
   ],
   "source": [
    "println(\"$(sizeof(Pickle.dumps(kdd_nn_model))) bytes\")"
   ]
  }
 ],
 "metadata": {
  "kernelspec": {
   "display_name": "Julia 1.5.3",
   "language": "julia",
   "name": "julia-1.5"
  },
  "language_info": {
   "file_extension": ".jl",
   "mimetype": "application/julia",
   "name": "julia",
   "version": "1.5.3"
  }
 },
 "nbformat": 4,
 "nbformat_minor": 4
}
